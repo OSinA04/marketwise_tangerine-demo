{
 "cells": [
  {
   "cell_type": "markdown",
   "metadata": {},
   "source": [
    "<center><h1>Problem Statement 1</h1></center>"
   ]
  },
  {
   "cell_type": "code",
   "execution_count": 1,
   "metadata": {},
   "outputs": [],
   "source": [
    "import numpy as np\n",
    "import pandas as pd"
   ]
  },
  {
   "cell_type": "markdown",
   "metadata": {},
   "source": [
    "## 1. Data Wrangling"
   ]
  },
  {
   "cell_type": "code",
   "execution_count": 2,
   "metadata": {},
   "outputs": [
    {
     "name": "stdout",
     "output_type": "stream",
     "text": [
      "<class 'pandas.core.frame.DataFrame'>\n",
      "RangeIndex: 467 entries, 0 to 466\n",
      "Data columns (total 77 columns):\n",
      " #   Column                          Non-Null Count  Dtype  \n",
      "---  ------                          --------------  -----  \n",
      " 0   id                              467 non-null    int64  \n",
      " 1   company_repName                 467 non-null    object \n",
      " 2   company_name                    467 non-null    object \n",
      " 3   blood_group                     467 non-null    object \n",
      " 4   mobile_no                       467 non-null    object \n",
      " 5   email                           467 non-null    object \n",
      " 6   designation                     467 non-null    object \n",
      " 7   country                         467 non-null    object \n",
      " 8   password                        467 non-null    object \n",
      " 9   exhibitor                       467 non-null    object \n",
      " 10  role                            467 non-null    object \n",
      " 11  pro_category                    467 non-null    object \n",
      " 12  createdAt                       467 non-null    object \n",
      " 13  updatedAt                       467 non-null    object \n",
      " 14  company_profile                 207 non-null    object \n",
      " 15  company_logo                    171 non-null    object \n",
      " 16  is_confirmed                    467 non-null    int64  \n",
      " 17  profile_completion              467 non-null    int64  \n",
      " 18  city                            464 non-null    object \n",
      " 19  state                           464 non-null    object \n",
      " 20  address_line1                   206 non-null    object \n",
      " 21  address_line2                   156 non-null    object \n",
      " 22  address_line3                   88 non-null     object \n",
      " 23  fascia                          204 non-null    object \n",
      " 24  website                         205 non-null    object \n",
      " 25  post_code                       206 non-null    object \n",
      " 26  gst                             205 non-null    object \n",
      " 27  host_qty                        2 non-null      float64\n",
      " 28  hostess_qty                     2 non-null      float64\n",
      " 29  single_phase_connection         191 non-null    float64\n",
      " 30  three_phase_connection          71 non-null     float64\n",
      " 31  indemnity_undertaking           467 non-null    int64  \n",
      " 32  fever                           467 non-null    int64  \n",
      " 33  cough                           467 non-null    int64  \n",
      " 34  breathlessness                  467 non-null    int64  \n",
      " 35  sore_throat_running_nose        467 non-null    int64  \n",
      " 36  body_ache                       467 non-null    int64  \n",
      " 37  other_symptom                   467 non-null    object \n",
      " 38  health_undertaking_accepted     467 non-null    int64  \n",
      " 39  exhibitor_deliverables_correct  467 non-null    int64  \n",
      " 40  vaccine_certificate             2 non-null      object \n",
      " 41  stall_design                    26 non-null     object \n",
      " 42  stall_design_correct            467 non-null    int64  \n",
      " 43  alternative_email               135 non-null    object \n",
      " 44  title                           205 non-null    object \n",
      " 45  first_name                      205 non-null    object \n",
      " 46  last_name                       205 non-null    object \n",
      " 47  oem_user_profile                467 non-null    int64  \n",
      " 48  oem_fascia                      467 non-null    int64  \n",
      " 49  oem_exhibitor_badges            467 non-null    int64  \n",
      " 50  oem_power_requirement           467 non-null    int64  \n",
      " 51  oem_furniture_requirement       467 non-null    int64  \n",
      " 52  oem_host_hostess                467 non-null    int64  \n",
      " 53  oem_bare_space_stall_design     467 non-null    int64  \n",
      " 54  oem_booth_contractor            467 non-null    int64  \n",
      " 55  oem_visa                        467 non-null    int64  \n",
      " 56  oem_indemnity_undertaking       467 non-null    int64  \n",
      " 57  oem_health_undertaking          467 non-null    int64  \n",
      " 58  oem_participation               467 non-null    int64  \n",
      " 59  oem_catalog_entry               467 non-null    int64  \n",
      " 60  company_repProfile              4 non-null      object \n",
      " 61  option_a                        467 non-null    int64  \n",
      " 62  option_b                        467 non-null    int64  \n",
      " 63  host                            197 non-null    object \n",
      " 64  currentForm                     467 non-null    object \n",
      " 65  currentFormIndex                467 non-null    int64  \n",
      " 66  booth_contractor_applicable     467 non-null    int64  \n",
      " 67  visa_applicable                 467 non-null    int64  \n",
      " 68  firebaseToken                   26 non-null     object \n",
      " 69  socket_id                       1 non-null      object \n",
      " 70  about_me                        0 non-null      float64\n",
      " 71  catalogue_mobile_no             197 non-null    object \n",
      " 72  catalogue_email                 197 non-null    object \n",
      " 73  contact_person                  185 non-null    object \n",
      " 74  contact_person_designation      185 non-null    object \n",
      " 75  furniture_applicable            467 non-null    int64  \n",
      " 76  account_deletion_request        467 non-null    int64  \n",
      "dtypes: float64(5), int64(32), object(40)\n",
      "memory usage: 281.1+ KB\n"
     ]
    }
   ],
   "source": [
    "df_exhibitors = pd.read_csv('exhibitors.csv')\n",
    "df_exhibitors.info()"
   ]
  },
  {
   "cell_type": "code",
   "execution_count": 3,
   "metadata": {},
   "outputs": [
    {
     "data": {
      "text/html": [
       "<div>\n",
       "<style scoped>\n",
       "    .dataframe tbody tr th:only-of-type {\n",
       "        vertical-align: middle;\n",
       "    }\n",
       "\n",
       "    .dataframe tbody tr th {\n",
       "        vertical-align: top;\n",
       "    }\n",
       "\n",
       "    .dataframe thead th {\n",
       "        text-align: right;\n",
       "    }\n",
       "</style>\n",
       "<table border=\"1\" class=\"dataframe\">\n",
       "  <thead>\n",
       "    <tr style=\"text-align: right;\">\n",
       "      <th></th>\n",
       "      <th>id</th>\n",
       "      <th>company_repName</th>\n",
       "      <th>company_name</th>\n",
       "      <th>blood_group</th>\n",
       "      <th>mobile_no</th>\n",
       "      <th>email</th>\n",
       "      <th>designation</th>\n",
       "      <th>country</th>\n",
       "      <th>password</th>\n",
       "      <th>exhibitor</th>\n",
       "      <th>...</th>\n",
       "      <th>visa_applicable</th>\n",
       "      <th>firebaseToken</th>\n",
       "      <th>socket_id</th>\n",
       "      <th>about_me</th>\n",
       "      <th>catalogue_mobile_no</th>\n",
       "      <th>catalogue_email</th>\n",
       "      <th>contact_person</th>\n",
       "      <th>contact_person_designation</th>\n",
       "      <th>furniture_applicable</th>\n",
       "      <th>account_deletion_request</th>\n",
       "    </tr>\n",
       "  </thead>\n",
       "  <tbody>\n",
       "    <tr>\n",
       "      <th>0</th>\n",
       "      <td>11</td>\n",
       "      <td>Ajinkya Vaidya</td>\n",
       "      <td>Exotron Thermal Private Limited</td>\n",
       "      <td>A+</td>\n",
       "      <td>+918698896786</td>\n",
       "      <td>ajinkya.vaidya@exotronthermal.com</td>\n",
       "      <td>Business Development Engineer</td>\n",
       "      <td>India</td>\n",
       "      <td>$2a$10$dSP2.wLWkjWeLivETbd/kODDNwcqjgpU/YAng/W...</td>\n",
       "      <td>exhibitor</td>\n",
       "      <td>...</td>\n",
       "      <td>1</td>\n",
       "      <td>NaN</td>\n",
       "      <td>NaN</td>\n",
       "      <td>NaN</td>\n",
       "      <td>NaN</td>\n",
       "      <td>NaN</td>\n",
       "      <td>NaN</td>\n",
       "      <td>NaN</td>\n",
       "      <td>0</td>\n",
       "      <td>0</td>\n",
       "    </tr>\n",
       "    <tr>\n",
       "      <th>1</th>\n",
       "      <td>12</td>\n",
       "      <td>Shankar Gawade</td>\n",
       "      <td>Morde Foods P Ltd</td>\n",
       "      <td>B+</td>\n",
       "      <td>+917028011497</td>\n",
       "      <td>shankar.gawade@morde.com</td>\n",
       "      <td>Manager - Engineering</td>\n",
       "      <td>India</td>\n",
       "      <td>$2a$10$bqNaAdp1YqETHXiGhrlaXe1pOy1opuLvXiAFuXI...</td>\n",
       "      <td>exhibitor</td>\n",
       "      <td>...</td>\n",
       "      <td>1</td>\n",
       "      <td>NaN</td>\n",
       "      <td>NaN</td>\n",
       "      <td>NaN</td>\n",
       "      <td>NaN</td>\n",
       "      <td>NaN</td>\n",
       "      <td>NaN</td>\n",
       "      <td>NaN</td>\n",
       "      <td>0</td>\n",
       "      <td>0</td>\n",
       "    </tr>\n",
       "    <tr>\n",
       "      <th>2</th>\n",
       "      <td>13</td>\n",
       "      <td>Yogesh Bais</td>\n",
       "      <td>Morde Foods P Ltd</td>\n",
       "      <td>B+</td>\n",
       "      <td>+919665097387</td>\n",
       "      <td>yogesh.bais@morde.com</td>\n",
       "      <td>Sr Manager - Engineering</td>\n",
       "      <td>India</td>\n",
       "      <td>$2a$10$V60rMdgfNgv5ZvykEFbVXux.MquoyTHOOE9Rxb4...</td>\n",
       "      <td>exhibitor</td>\n",
       "      <td>...</td>\n",
       "      <td>1</td>\n",
       "      <td>NaN</td>\n",
       "      <td>NaN</td>\n",
       "      <td>NaN</td>\n",
       "      <td>NaN</td>\n",
       "      <td>NaN</td>\n",
       "      <td>NaN</td>\n",
       "      <td>NaN</td>\n",
       "      <td>0</td>\n",
       "      <td>0</td>\n",
       "    </tr>\n",
       "    <tr>\n",
       "      <th>3</th>\n",
       "      <td>21</td>\n",
       "      <td>SHANTANU KHANNA</td>\n",
       "      <td>ISO 9001:2015 , ISI, IBR, MSME, NSIC</td>\n",
       "      <td>B+</td>\n",
       "      <td>+919041757000</td>\n",
       "      <td>info@valvcointernational.com</td>\n",
       "      <td>Director Technical</td>\n",
       "      <td>India</td>\n",
       "      <td>$2a$10$SamJoY2Fa/Ss78XYMKA3Du8ZXdZwQpnUrg95eGL...</td>\n",
       "      <td>exhibitor</td>\n",
       "      <td>...</td>\n",
       "      <td>1</td>\n",
       "      <td>NaN</td>\n",
       "      <td>NaN</td>\n",
       "      <td>NaN</td>\n",
       "      <td>NaN</td>\n",
       "      <td>NaN</td>\n",
       "      <td>NaN</td>\n",
       "      <td>NaN</td>\n",
       "      <td>0</td>\n",
       "      <td>0</td>\n",
       "    </tr>\n",
       "    <tr>\n",
       "      <th>4</th>\n",
       "      <td>22</td>\n",
       "      <td>VIVEK JAIN</td>\n",
       "      <td>THE BOILER COMPONENTS MFG.CO.</td>\n",
       "      <td>B+</td>\n",
       "      <td>+919310302475</td>\n",
       "      <td>boilercomponents@yahoo.com</td>\n",
       "      <td>director</td>\n",
       "      <td>India</td>\n",
       "      <td>$2a$10$hmEdnGM8iZLqRzoS813tU.SV7HpromzJo3checU...</td>\n",
       "      <td>exhibitor</td>\n",
       "      <td>...</td>\n",
       "      <td>1</td>\n",
       "      <td>NaN</td>\n",
       "      <td>NaN</td>\n",
       "      <td>NaN</td>\n",
       "      <td>NaN</td>\n",
       "      <td>NaN</td>\n",
       "      <td>NaN</td>\n",
       "      <td>NaN</td>\n",
       "      <td>0</td>\n",
       "      <td>0</td>\n",
       "    </tr>\n",
       "  </tbody>\n",
       "</table>\n",
       "<p>5 rows × 77 columns</p>\n",
       "</div>"
      ],
      "text/plain": [
       "   id  company_repName                          company_name blood_group  \\\n",
       "0  11   Ajinkya Vaidya       Exotron Thermal Private Limited          A+   \n",
       "1  12   Shankar Gawade                     Morde Foods P Ltd          B+   \n",
       "2  13      Yogesh Bais                     Morde Foods P Ltd          B+   \n",
       "3  21  SHANTANU KHANNA  ISO 9001:2015 , ISI, IBR, MSME, NSIC          B+   \n",
       "4  22       VIVEK JAIN         THE BOILER COMPONENTS MFG.CO.          B+   \n",
       "\n",
       "       mobile_no                              email  \\\n",
       "0  +918698896786  ajinkya.vaidya@exotronthermal.com   \n",
       "1  +917028011497           shankar.gawade@morde.com   \n",
       "2  +919665097387              yogesh.bais@morde.com   \n",
       "3  +919041757000       info@valvcointernational.com   \n",
       "4  +919310302475         boilercomponents@yahoo.com   \n",
       "\n",
       "                     designation country  \\\n",
       "0  Business Development Engineer   India   \n",
       "1          Manager - Engineering   India   \n",
       "2       Sr Manager - Engineering   India   \n",
       "3             Director Technical   India   \n",
       "4                       director   India   \n",
       "\n",
       "                                            password  exhibitor  ...  \\\n",
       "0  $2a$10$dSP2.wLWkjWeLivETbd/kODDNwcqjgpU/YAng/W...  exhibitor  ...   \n",
       "1  $2a$10$bqNaAdp1YqETHXiGhrlaXe1pOy1opuLvXiAFuXI...  exhibitor  ...   \n",
       "2  $2a$10$V60rMdgfNgv5ZvykEFbVXux.MquoyTHOOE9Rxb4...  exhibitor  ...   \n",
       "3  $2a$10$SamJoY2Fa/Ss78XYMKA3Du8ZXdZwQpnUrg95eGL...  exhibitor  ...   \n",
       "4  $2a$10$hmEdnGM8iZLqRzoS813tU.SV7HpromzJo3checU...  exhibitor  ...   \n",
       "\n",
       "  visa_applicable firebaseToken socket_id about_me catalogue_mobile_no  \\\n",
       "0               1           NaN       NaN      NaN                 NaN   \n",
       "1               1           NaN       NaN      NaN                 NaN   \n",
       "2               1           NaN       NaN      NaN                 NaN   \n",
       "3               1           NaN       NaN      NaN                 NaN   \n",
       "4               1           NaN       NaN      NaN                 NaN   \n",
       "\n",
       "  catalogue_email  contact_person  contact_person_designation  \\\n",
       "0             NaN             NaN                         NaN   \n",
       "1             NaN             NaN                         NaN   \n",
       "2             NaN             NaN                         NaN   \n",
       "3             NaN             NaN                         NaN   \n",
       "4             NaN             NaN                         NaN   \n",
       "\n",
       "  furniture_applicable account_deletion_request  \n",
       "0                    0                        0  \n",
       "1                    0                        0  \n",
       "2                    0                        0  \n",
       "3                    0                        0  \n",
       "4                    0                        0  \n",
       "\n",
       "[5 rows x 77 columns]"
      ]
     },
     "execution_count": 3,
     "metadata": {},
     "output_type": "execute_result"
    }
   ],
   "source": [
    "df_exhibitors.head()"
   ]
  },
  {
   "cell_type": "code",
   "execution_count": 4,
   "metadata": {},
   "outputs": [
    {
     "data": {
      "text/plain": [
       "(467, 77)"
      ]
     },
     "execution_count": 4,
     "metadata": {},
     "output_type": "execute_result"
    }
   ],
   "source": [
    "df_exhibitors.shape"
   ]
  },
  {
   "cell_type": "code",
   "execution_count": 5,
   "metadata": {},
   "outputs": [
    {
     "data": {
      "text/plain": [
       "array([0], dtype=int64)"
      ]
     },
     "execution_count": 5,
     "metadata": {},
     "output_type": "execute_result"
    }
   ],
   "source": [
    "df_exhibitors['profile_completion'].unique()"
   ]
  },
  {
   "cell_type": "markdown",
   "metadata": {},
   "source": [
    "Dropping unnecessary columns after careful deliberation"
   ]
  },
  {
   "cell_type": "code",
   "execution_count": 6,
   "metadata": {},
   "outputs": [],
   "source": [
    "# drop blood group, mobile number, email, password, role, createdat, updatedat, company logo, profile completion, host_qty, hostess_qty, address vale saare, vaccine certificate, alternative email, firstname, lastname, title, company rep_profile\n",
    "df_exhibitors_ml = df_exhibitors.drop(['id', 'blood_group', 'mobile_no', 'email', 'password', 'exhibitor', 'role', 'createdAt', 'updatedAt', 'company_logo', 'profile_completion', 'host_qty', 'hostess_qty', 'address_line1', 'address_line2', 'address_line3', 'fascia', 'website', 'post_code', 'gst', 'single_phase_connection', 'three_phase_connection', 'other_symptom', 'stall_design', 'vaccine_certificate', 'alternative_email', 'first_name', 'last_name', 'title', 'company_repProfile', 'oem_user_profile', 'oem_fascia', \"oem_exhibitor_badges\",\"oem_power_requirement\",\"oem_furniture_requirement\",\"oem_host_hostess\",\"oem_bare_space_stall_design\",\"oem_booth_contractor\",\"oem_visa\",\"oem_indemnity_undertaking\",\"oem_health_undertaking\",\"oem_participation\",\"oem_catalog_entry\",\"option_a\",\"option_b\",\"host\",\"currentForm\",\"currentFormIndex\",\"booth_contractor_applicable\",\"visa_applicable\",\"firebaseToken\",\"socket_id\",\"about_me\",\"catalogue_mobile_no\",\"catalogue_email\",\"contact_person\",\"contact_person_designation\",\"furniture_applicable\",\"account_deletion_request\"], axis=1)"
   ]
  },
  {
   "cell_type": "code",
   "execution_count": 7,
   "metadata": {},
   "outputs": [
    {
     "data": {
      "text/html": [
       "<div>\n",
       "<style scoped>\n",
       "    .dataframe tbody tr th:only-of-type {\n",
       "        vertical-align: middle;\n",
       "    }\n",
       "\n",
       "    .dataframe tbody tr th {\n",
       "        vertical-align: top;\n",
       "    }\n",
       "\n",
       "    .dataframe thead th {\n",
       "        text-align: right;\n",
       "    }\n",
       "</style>\n",
       "<table border=\"1\" class=\"dataframe\">\n",
       "  <thead>\n",
       "    <tr style=\"text-align: right;\">\n",
       "      <th></th>\n",
       "      <th>designation</th>\n",
       "      <th>contact_person_designation</th>\n",
       "    </tr>\n",
       "  </thead>\n",
       "  <tbody>\n",
       "    <tr>\n",
       "      <th>0</th>\n",
       "      <td>Business Development Engineer</td>\n",
       "      <td>NaN</td>\n",
       "    </tr>\n",
       "    <tr>\n",
       "      <th>1</th>\n",
       "      <td>Manager - Engineering</td>\n",
       "      <td>NaN</td>\n",
       "    </tr>\n",
       "    <tr>\n",
       "      <th>2</th>\n",
       "      <td>Sr Manager - Engineering</td>\n",
       "      <td>NaN</td>\n",
       "    </tr>\n",
       "    <tr>\n",
       "      <th>3</th>\n",
       "      <td>Director Technical</td>\n",
       "      <td>NaN</td>\n",
       "    </tr>\n",
       "    <tr>\n",
       "      <th>4</th>\n",
       "      <td>director</td>\n",
       "      <td>NaN</td>\n",
       "    </tr>\n",
       "    <tr>\n",
       "      <th>...</th>\n",
       "      <td>...</td>\n",
       "      <td>...</td>\n",
       "    </tr>\n",
       "    <tr>\n",
       "      <th>462</th>\n",
       "      <td>Sales Manager</td>\n",
       "      <td>NaN</td>\n",
       "    </tr>\n",
       "    <tr>\n",
       "      <th>463</th>\n",
       "      <td>Export and Domestic Sales Head</td>\n",
       "      <td>NaN</td>\n",
       "    </tr>\n",
       "    <tr>\n",
       "      <th>464</th>\n",
       "      <td>Owner</td>\n",
       "      <td>NaN</td>\n",
       "    </tr>\n",
       "    <tr>\n",
       "      <th>465</th>\n",
       "      <td>Director</td>\n",
       "      <td>NaN</td>\n",
       "    </tr>\n",
       "    <tr>\n",
       "      <th>466</th>\n",
       "      <td>business head</td>\n",
       "      <td>NaN</td>\n",
       "    </tr>\n",
       "  </tbody>\n",
       "</table>\n",
       "<p>467 rows × 2 columns</p>\n",
       "</div>"
      ],
      "text/plain": [
       "                        designation contact_person_designation\n",
       "0     Business Development Engineer                        NaN\n",
       "1             Manager - Engineering                        NaN\n",
       "2          Sr Manager - Engineering                        NaN\n",
       "3                Director Technical                        NaN\n",
       "4                          director                        NaN\n",
       "..                              ...                        ...\n",
       "462                   Sales Manager                        NaN\n",
       "463  Export and Domestic Sales Head                        NaN\n",
       "464                          Owner                         NaN\n",
       "465                        Director                        NaN\n",
       "466                  business head                         NaN\n",
       "\n",
       "[467 rows x 2 columns]"
      ]
     },
     "execution_count": 7,
     "metadata": {},
     "output_type": "execute_result"
    }
   ],
   "source": [
    "df_exhibitors[['designation', 'contact_person_designation']]"
   ]
  },
  {
   "cell_type": "code",
   "execution_count": 8,
   "metadata": {},
   "outputs": [
    {
     "name": "stdout",
     "output_type": "stream",
     "text": [
      "<class 'pandas.core.frame.DataFrame'>\n",
      "RangeIndex: 467 entries, 0 to 466\n",
      "Data columns (total 18 columns):\n",
      " #   Column                          Non-Null Count  Dtype \n",
      "---  ------                          --------------  ----- \n",
      " 0   company_repName                 467 non-null    object\n",
      " 1   company_name                    467 non-null    object\n",
      " 2   designation                     467 non-null    object\n",
      " 3   country                         467 non-null    object\n",
      " 4   pro_category                    467 non-null    object\n",
      " 5   company_profile                 207 non-null    object\n",
      " 6   is_confirmed                    467 non-null    int64 \n",
      " 7   city                            464 non-null    object\n",
      " 8   state                           464 non-null    object\n",
      " 9   indemnity_undertaking           467 non-null    int64 \n",
      " 10  fever                           467 non-null    int64 \n",
      " 11  cough                           467 non-null    int64 \n",
      " 12  breathlessness                  467 non-null    int64 \n",
      " 13  sore_throat_running_nose        467 non-null    int64 \n",
      " 14  body_ache                       467 non-null    int64 \n",
      " 15  health_undertaking_accepted     467 non-null    int64 \n",
      " 16  exhibitor_deliverables_correct  467 non-null    int64 \n",
      " 17  stall_design_correct            467 non-null    int64 \n",
      "dtypes: int64(10), object(8)\n",
      "memory usage: 65.8+ KB\n"
     ]
    }
   ],
   "source": [
    "df_exhibitors_ml.info()"
   ]
  },
  {
   "cell_type": "code",
   "execution_count": 9,
   "metadata": {},
   "outputs": [],
   "source": [
    "df_exhibitors_ml.drop('company_repName', axis=1, inplace=True)"
   ]
  },
  {
   "cell_type": "code",
   "execution_count": 10,
   "metadata": {},
   "outputs": [
    {
     "data": {
      "text/plain": [
       "Index(['company_name', 'designation', 'country', 'pro_category',\n",
       "       'company_profile', 'is_confirmed', 'city', 'state',\n",
       "       'indemnity_undertaking', 'fever', 'cough', 'breathlessness',\n",
       "       'sore_throat_running_nose', 'body_ache', 'health_undertaking_accepted',\n",
       "       'exhibitor_deliverables_correct', 'stall_design_correct'],\n",
       "      dtype='object')"
      ]
     },
     "execution_count": 10,
     "metadata": {},
     "output_type": "execute_result"
    }
   ],
   "source": [
    "df_exhibitors_ml.columns"
   ]
  },
  {
   "cell_type": "code",
   "execution_count": 11,
   "metadata": {},
   "outputs": [
    {
     "name": "stdout",
     "output_type": "stream",
     "text": [
      "<class 'pandas.core.frame.DataFrame'>\n",
      "RangeIndex: 12165 entries, 0 to 12164\n",
      "Data columns (total 28 columns):\n",
      " #   Column                    Non-Null Count  Dtype  \n",
      "---  ------                    --------------  -----  \n",
      " 0   id                        12165 non-null  int64  \n",
      " 1   company_repName           12165 non-null  object \n",
      " 2   company_name              12110 non-null  object \n",
      " 3   blood_group               590 non-null    object \n",
      " 4   mobile_no                 12161 non-null  float64\n",
      " 5   email                     12164 non-null  object \n",
      " 6   designation               629 non-null    object \n",
      " 7   country                   11847 non-null  object \n",
      " 8   password                  12165 non-null  object \n",
      " 9   visitor                   0 non-null      float64\n",
      " 10  profession                12165 non-null  object \n",
      " 11  role                      12165 non-null  object \n",
      " 12  createdAt                 12165 non-null  object \n",
      " 13  updatedAt                 12165 non-null  object \n",
      " 14  city                      11853 non-null  object \n",
      " 15  state                     11849 non-null  object \n",
      " 16  vaccine_certificate       376 non-null    object \n",
      " 17  id_certificate            376 non-null    object \n",
      " 18  company_logo              0 non-null      float64\n",
      " 19  alternative_email         0 non-null      float64\n",
      " 20  address_line1             0 non-null      float64\n",
      " 21  address_line2             0 non-null      float64\n",
      " 22  address_line3             0 non-null      float64\n",
      " 23  company_repProfile        29 non-null     object \n",
      " 24  firebaseToken             1964 non-null   object \n",
      " 25  socket_id                 3 non-null      object \n",
      " 26  about_me                  0 non-null      float64\n",
      " 27  account_deletion_request  12165 non-null  int64  \n",
      "dtypes: float64(8), int64(2), object(18)\n",
      "memory usage: 2.6+ MB\n"
     ]
    }
   ],
   "source": [
    "df_visitors = pd.read_csv('visitors.csv')\n",
    "df_visitors.info()"
   ]
  },
  {
   "cell_type": "code",
   "execution_count": 12,
   "metadata": {},
   "outputs": [
    {
     "data": {
      "text/plain": [
       "Index(['id', 'company_repName', 'company_name', 'blood_group', 'mobile_no',\n",
       "       'email', 'designation', 'country', 'password', 'visitor', 'profession',\n",
       "       'role', 'createdAt', 'updatedAt', 'city', 'state',\n",
       "       'vaccine_certificate', 'id_certificate', 'company_logo',\n",
       "       'alternative_email', 'address_line1', 'address_line2', 'address_line3',\n",
       "       'company_repProfile', 'firebaseToken', 'socket_id', 'about_me',\n",
       "       'account_deletion_request'],\n",
       "      dtype='object')"
      ]
     },
     "execution_count": 12,
     "metadata": {},
     "output_type": "execute_result"
    }
   ],
   "source": [
    "df_visitors.columns"
   ]
  },
  {
   "cell_type": "markdown",
   "metadata": {},
   "source": [
    "Again, dropping the unnecessary columns"
   ]
  },
  {
   "cell_type": "code",
   "execution_count": 13,
   "metadata": {},
   "outputs": [],
   "source": [
    "df_visitors_ml = df_visitors.drop(['id', 'company_repName', 'company_name', 'blood_group', 'mobile_no',\n",
    "       'email', 'country', 'password', 'visitor',\n",
    "       'role', 'createdAt', 'updatedAt',\n",
    "       'vaccine_certificate', 'id_certificate', 'company_logo',\n",
    "       'alternative_email', 'address_line1', 'address_line2', 'address_line3',\n",
    "       'company_repProfile', 'firebaseToken', 'socket_id', 'about_me',\n",
    "       'account_deletion_request'], axis=1)"
   ]
  },
  {
   "cell_type": "code",
   "execution_count": 14,
   "metadata": {},
   "outputs": [
    {
     "name": "stdout",
     "output_type": "stream",
     "text": [
      "<class 'pandas.core.frame.DataFrame'>\n",
      "RangeIndex: 12165 entries, 0 to 12164\n",
      "Data columns (total 4 columns):\n",
      " #   Column       Non-Null Count  Dtype \n",
      "---  ------       --------------  ----- \n",
      " 0   designation  629 non-null    object\n",
      " 1   profession   12165 non-null  object\n",
      " 2   city         11853 non-null  object\n",
      " 3   state        11849 non-null  object\n",
      "dtypes: object(4)\n",
      "memory usage: 380.3+ KB\n"
     ]
    }
   ],
   "source": [
    "df_visitors_ml.info()"
   ]
  },
  {
   "cell_type": "markdown",
   "metadata": {},
   "source": [
    "Combining all the health malfunction columns into one sick column."
   ]
  },
  {
   "cell_type": "code",
   "execution_count": 15,
   "metadata": {},
   "outputs": [],
   "source": [
    "# in df_exhibitors_ml make it so that if any one of the following columns are 1 then create a new column called sick and set it to 1 : 'fever', 'cough', 'breathlessness','sore_throat_running_nose', 'body_ache'\n",
    "df_exhibitors_ml['sick'] = df_exhibitors_ml[['fever', 'cough', 'breathlessness','sore_throat_running_nose', 'body_ache']].sum(axis=1)"
   ]
  },
  {
   "cell_type": "markdown",
   "metadata": {},
   "source": [
    "It was dropped after careful thought, as only one row had a `True` value."
   ]
  },
  {
   "cell_type": "code",
   "execution_count": 16,
   "metadata": {},
   "outputs": [],
   "source": [
    "df_exhibitors_ml.drop(['sick', 'fever', 'cough', 'breathlessness',\n",
    "       'sore_throat_running_nose', 'body_ache'], axis=1, inplace=True)"
   ]
  },
  {
   "cell_type": "markdown",
   "metadata": {},
   "source": [
    "Removing duplicates"
   ]
  },
  {
   "cell_type": "code",
   "execution_count": 17,
   "metadata": {},
   "outputs": [
    {
     "data": {
      "text/html": [
       "<div>\n",
       "<style scoped>\n",
       "    .dataframe tbody tr th:only-of-type {\n",
       "        vertical-align: middle;\n",
       "    }\n",
       "\n",
       "    .dataframe tbody tr th {\n",
       "        vertical-align: top;\n",
       "    }\n",
       "\n",
       "    .dataframe thead th {\n",
       "        text-align: right;\n",
       "    }\n",
       "</style>\n",
       "<table border=\"1\" class=\"dataframe\">\n",
       "  <thead>\n",
       "    <tr style=\"text-align: right;\">\n",
       "      <th></th>\n",
       "      <th>company_name</th>\n",
       "      <th>designation</th>\n",
       "      <th>country</th>\n",
       "      <th>pro_category</th>\n",
       "      <th>company_profile</th>\n",
       "      <th>is_confirmed</th>\n",
       "      <th>city</th>\n",
       "      <th>state</th>\n",
       "      <th>indemnity_undertaking</th>\n",
       "      <th>health_undertaking_accepted</th>\n",
       "      <th>exhibitor_deliverables_correct</th>\n",
       "      <th>stall_design_correct</th>\n",
       "    </tr>\n",
       "  </thead>\n",
       "  <tbody>\n",
       "    <tr>\n",
       "      <th>120</th>\n",
       "      <td>M/S Excel Industries Ltd</td>\n",
       "      <td>Maintenance Executive</td>\n",
       "      <td>India</td>\n",
       "      <td>Technology&amp;serviceprovider</td>\n",
       "      <td>NaN</td>\n",
       "      <td>0</td>\n",
       "      <td>Roha</td>\n",
       "      <td>Maharashtra</td>\n",
       "      <td>0</td>\n",
       "      <td>0</td>\n",
       "      <td>0</td>\n",
       "      <td>0</td>\n",
       "    </tr>\n",
       "    <tr>\n",
       "      <th>363</th>\n",
       "      <td>PARAMOUNT ENGINEERS</td>\n",
       "      <td>SUPERVISOR</td>\n",
       "      <td>India</td>\n",
       "      <td>Boilercomponentmanufacturer</td>\n",
       "      <td>NaN</td>\n",
       "      <td>0</td>\n",
       "      <td>Pune</td>\n",
       "      <td>Maharashtra</td>\n",
       "      <td>0</td>\n",
       "      <td>0</td>\n",
       "      <td>0</td>\n",
       "      <td>0</td>\n",
       "    </tr>\n",
       "    <tr>\n",
       "      <th>369</th>\n",
       "      <td>ALFA BOILERS PVT. LTD</td>\n",
       "      <td>Marketing Executive</td>\n",
       "      <td>India</td>\n",
       "      <td>Boilermanufacturer</td>\n",
       "      <td>NaN</td>\n",
       "      <td>0</td>\n",
       "      <td>Latur</td>\n",
       "      <td>Maharashtra</td>\n",
       "      <td>0</td>\n",
       "      <td>0</td>\n",
       "      <td>0</td>\n",
       "      <td>0</td>\n",
       "    </tr>\n",
       "    <tr>\n",
       "      <th>373</th>\n",
       "      <td>Alfa Boilers Pvt Ltd</td>\n",
       "      <td>Engineer- Sales &amp; Marketing</td>\n",
       "      <td>India</td>\n",
       "      <td>Boilermanufacturer</td>\n",
       "      <td>NaN</td>\n",
       "      <td>0</td>\n",
       "      <td>Pune</td>\n",
       "      <td>Maharashtra</td>\n",
       "      <td>0</td>\n",
       "      <td>0</td>\n",
       "      <td>0</td>\n",
       "      <td>0</td>\n",
       "    </tr>\n",
       "    <tr>\n",
       "      <th>376</th>\n",
       "      <td>Alfa Boilers Pvt Ltd</td>\n",
       "      <td>Engineer- Sales &amp; Marketing</td>\n",
       "      <td>India</td>\n",
       "      <td>Boilermanufacturer</td>\n",
       "      <td>NaN</td>\n",
       "      <td>0</td>\n",
       "      <td>Pune</td>\n",
       "      <td>Maharashtra</td>\n",
       "      <td>0</td>\n",
       "      <td>0</td>\n",
       "      <td>0</td>\n",
       "      <td>0</td>\n",
       "    </tr>\n",
       "    <tr>\n",
       "      <th>407</th>\n",
       "      <td>Venus petrochemical</td>\n",
       "      <td>manager</td>\n",
       "      <td>India</td>\n",
       "      <td>Dealers/Traders/Distributors</td>\n",
       "      <td>NaN</td>\n",
       "      <td>0</td>\n",
       "      <td>Mumbai</td>\n",
       "      <td>Maharashtra</td>\n",
       "      <td>0</td>\n",
       "      <td>0</td>\n",
       "      <td>0</td>\n",
       "      <td>0</td>\n",
       "    </tr>\n",
       "  </tbody>\n",
       "</table>\n",
       "</div>"
      ],
      "text/plain": [
       "                 company_name                  designation country  \\\n",
       "120  M/S Excel Industries Ltd        Maintenance Executive   India   \n",
       "363       PARAMOUNT ENGINEERS                   SUPERVISOR   India   \n",
       "369     ALFA BOILERS PVT. LTD         Marketing Executive    India   \n",
       "373      Alfa Boilers Pvt Ltd  Engineer- Sales & Marketing   India   \n",
       "376      Alfa Boilers Pvt Ltd  Engineer- Sales & Marketing   India   \n",
       "407      Venus petrochemical                      manager    India   \n",
       "\n",
       "                     pro_category company_profile  is_confirmed    city  \\\n",
       "120    Technology&serviceprovider             NaN             0    Roha   \n",
       "363   Boilercomponentmanufacturer             NaN             0    Pune   \n",
       "369            Boilermanufacturer             NaN             0   Latur   \n",
       "373            Boilermanufacturer             NaN             0    Pune   \n",
       "376            Boilermanufacturer             NaN             0    Pune   \n",
       "407  Dealers/Traders/Distributors             NaN             0  Mumbai   \n",
       "\n",
       "           state  indemnity_undertaking  health_undertaking_accepted  \\\n",
       "120  Maharashtra                      0                            0   \n",
       "363  Maharashtra                      0                            0   \n",
       "369  Maharashtra                      0                            0   \n",
       "373  Maharashtra                      0                            0   \n",
       "376  Maharashtra                      0                            0   \n",
       "407  Maharashtra                      0                            0   \n",
       "\n",
       "     exhibitor_deliverables_correct  stall_design_correct  \n",
       "120                               0                     0  \n",
       "363                               0                     0  \n",
       "369                               0                     0  \n",
       "373                               0                     0  \n",
       "376                               0                     0  \n",
       "407                               0                     0  "
      ]
     },
     "execution_count": 17,
     "metadata": {},
     "output_type": "execute_result"
    }
   ],
   "source": [
    "# show duplicated rows\n",
    "df_exhibitors_ml[df_exhibitors_ml.duplicated()]"
   ]
  },
  {
   "cell_type": "code",
   "execution_count": 18,
   "metadata": {},
   "outputs": [],
   "source": [
    "# drop duplicated rows\n",
    "df_exhibitors_ml.drop_duplicates(inplace=True)"
   ]
  },
  {
   "cell_type": "code",
   "execution_count": 19,
   "metadata": {},
   "outputs": [
    {
     "name": "stdout",
     "output_type": "stream",
     "text": [
      "<class 'pandas.core.frame.DataFrame'>\n",
      "Index: 461 entries, 0 to 466\n",
      "Data columns (total 12 columns):\n",
      " #   Column                          Non-Null Count  Dtype \n",
      "---  ------                          --------------  ----- \n",
      " 0   company_name                    461 non-null    object\n",
      " 1   designation                     461 non-null    object\n",
      " 2   country                         461 non-null    object\n",
      " 3   pro_category                    461 non-null    object\n",
      " 4   company_profile                 207 non-null    object\n",
      " 5   is_confirmed                    461 non-null    int64 \n",
      " 6   city                            458 non-null    object\n",
      " 7   state                           458 non-null    object\n",
      " 8   indemnity_undertaking           461 non-null    int64 \n",
      " 9   health_undertaking_accepted     461 non-null    int64 \n",
      " 10  exhibitor_deliverables_correct  461 non-null    int64 \n",
      " 11  stall_design_correct            461 non-null    int64 \n",
      "dtypes: int64(5), object(7)\n",
      "memory usage: 46.8+ KB\n"
     ]
    }
   ],
   "source": [
    "df_exhibitors_ml.info()"
   ]
  },
  {
   "cell_type": "code",
   "execution_count": 20,
   "metadata": {},
   "outputs": [
    {
     "data": {
      "text/html": [
       "<div>\n",
       "<style scoped>\n",
       "    .dataframe tbody tr th:only-of-type {\n",
       "        vertical-align: middle;\n",
       "    }\n",
       "\n",
       "    .dataframe tbody tr th {\n",
       "        vertical-align: top;\n",
       "    }\n",
       "\n",
       "    .dataframe thead th {\n",
       "        text-align: right;\n",
       "    }\n",
       "</style>\n",
       "<table border=\"1\" class=\"dataframe\">\n",
       "  <thead>\n",
       "    <tr style=\"text-align: right;\">\n",
       "      <th></th>\n",
       "      <th>company_name</th>\n",
       "      <th>designation</th>\n",
       "      <th>country</th>\n",
       "      <th>pro_category</th>\n",
       "      <th>company_profile</th>\n",
       "      <th>is_confirmed</th>\n",
       "      <th>city</th>\n",
       "      <th>state</th>\n",
       "      <th>indemnity_undertaking</th>\n",
       "      <th>health_undertaking_accepted</th>\n",
       "      <th>exhibitor_deliverables_correct</th>\n",
       "      <th>stall_design_correct</th>\n",
       "    </tr>\n",
       "  </thead>\n",
       "  <tbody>\n",
       "    <tr>\n",
       "      <th>0</th>\n",
       "      <td>Exotron Thermal Private Limited</td>\n",
       "      <td>Business Development Engineer</td>\n",
       "      <td>India</td>\n",
       "      <td>Technology&amp;serviceprovider</td>\n",
       "      <td>NaN</td>\n",
       "      <td>0</td>\n",
       "      <td>NaN</td>\n",
       "      <td>NaN</td>\n",
       "      <td>0</td>\n",
       "      <td>0</td>\n",
       "      <td>0</td>\n",
       "      <td>0</td>\n",
       "    </tr>\n",
       "    <tr>\n",
       "      <th>1</th>\n",
       "      <td>Morde Foods P Ltd</td>\n",
       "      <td>Manager - Engineering</td>\n",
       "      <td>India</td>\n",
       "      <td>Technology&amp;serviceprovider</td>\n",
       "      <td>NaN</td>\n",
       "      <td>0</td>\n",
       "      <td>NaN</td>\n",
       "      <td>NaN</td>\n",
       "      <td>0</td>\n",
       "      <td>0</td>\n",
       "      <td>0</td>\n",
       "      <td>0</td>\n",
       "    </tr>\n",
       "    <tr>\n",
       "      <th>2</th>\n",
       "      <td>Morde Foods P Ltd</td>\n",
       "      <td>Sr Manager - Engineering</td>\n",
       "      <td>India</td>\n",
       "      <td>Technology&amp;serviceprovider</td>\n",
       "      <td>NaN</td>\n",
       "      <td>0</td>\n",
       "      <td>NaN</td>\n",
       "      <td>NaN</td>\n",
       "      <td>0</td>\n",
       "      <td>0</td>\n",
       "      <td>0</td>\n",
       "      <td>0</td>\n",
       "    </tr>\n",
       "  </tbody>\n",
       "</table>\n",
       "</div>"
      ],
      "text/plain": [
       "                      company_name                    designation country  \\\n",
       "0  Exotron Thermal Private Limited  Business Development Engineer   India   \n",
       "1                Morde Foods P Ltd          Manager - Engineering   India   \n",
       "2                Morde Foods P Ltd       Sr Manager - Engineering   India   \n",
       "\n",
       "                 pro_category company_profile  is_confirmed city state  \\\n",
       "0  Technology&serviceprovider             NaN             0  NaN   NaN   \n",
       "1  Technology&serviceprovider             NaN             0  NaN   NaN   \n",
       "2  Technology&serviceprovider             NaN             0  NaN   NaN   \n",
       "\n",
       "   indemnity_undertaking  health_undertaking_accepted  \\\n",
       "0                      0                            0   \n",
       "1                      0                            0   \n",
       "2                      0                            0   \n",
       "\n",
       "   exhibitor_deliverables_correct  stall_design_correct  \n",
       "0                               0                     0  \n",
       "1                               0                     0  \n",
       "2                               0                     0  "
      ]
     },
     "execution_count": 20,
     "metadata": {},
     "output_type": "execute_result"
    }
   ],
   "source": [
    "# get rows with null city or state\n",
    "df_exhibitors_ml[df_exhibitors_ml['city'].isnull() | df_exhibitors_ml['state'].isnull()]"
   ]
  },
  {
   "cell_type": "markdown",
   "metadata": {},
   "source": [
    "Since, there were only 3 rows who had city and state as NULL. We scoured the internet for the actual location and filled them in manually."
   ]
  },
  {
   "cell_type": "code",
   "execution_count": 21,
   "metadata": {},
   "outputs": [],
   "source": [
    "# in company_name='Exotron Thermal Private Limited' set city to 'Pune' and state to 'Maharashtra'\n",
    "df_exhibitors_ml.loc[df_exhibitors_ml['company_name'] == 'Exotron Thermal Private Limited', 'city'] = 'Pune'\n",
    "df_exhibitors_ml.loc[df_exhibitors_ml['company_name'] == 'Exotron Thermal Private Limited', 'state'] = 'Maharashtra'\n",
    "\n",
    "# in company_name='Morde Foods Private Limited' set city to 'Mumbai' and state to 'Maharashtra'\n",
    "df_exhibitors_ml.loc[df_exhibitors_ml['company_name'] == 'Morde Foods P Ltd', 'city'] = 'Mumbai'\n",
    "df_exhibitors_ml.loc[df_exhibitors_ml['company_name'] == 'Morde Foods P Ltd', 'state'] = 'Maharashtra'"
   ]
  },
  {
   "cell_type": "code",
   "execution_count": 22,
   "metadata": {},
   "outputs": [
    {
     "name": "stdout",
     "output_type": "stream",
     "text": [
      "<class 'pandas.core.frame.DataFrame'>\n",
      "Index: 461 entries, 0 to 466\n",
      "Data columns (total 12 columns):\n",
      " #   Column                          Non-Null Count  Dtype \n",
      "---  ------                          --------------  ----- \n",
      " 0   company_name                    461 non-null    object\n",
      " 1   designation                     461 non-null    object\n",
      " 2   country                         461 non-null    object\n",
      " 3   pro_category                    461 non-null    object\n",
      " 4   company_profile                 207 non-null    object\n",
      " 5   is_confirmed                    461 non-null    int64 \n",
      " 6   city                            461 non-null    object\n",
      " 7   state                           461 non-null    object\n",
      " 8   indemnity_undertaking           461 non-null    int64 \n",
      " 9   health_undertaking_accepted     461 non-null    int64 \n",
      " 10  exhibitor_deliverables_correct  461 non-null    int64 \n",
      " 11  stall_design_correct            461 non-null    int64 \n",
      "dtypes: int64(5), object(7)\n",
      "memory usage: 46.8+ KB\n"
     ]
    }
   ],
   "source": [
    "df_exhibitors_ml.info()"
   ]
  },
  {
   "cell_type": "code",
   "execution_count": 23,
   "metadata": {},
   "outputs": [
    {
     "data": {
      "text/html": [
       "<div>\n",
       "<style scoped>\n",
       "    .dataframe tbody tr th:only-of-type {\n",
       "        vertical-align: middle;\n",
       "    }\n",
       "\n",
       "    .dataframe tbody tr th {\n",
       "        vertical-align: top;\n",
       "    }\n",
       "\n",
       "    .dataframe thead th {\n",
       "        text-align: right;\n",
       "    }\n",
       "</style>\n",
       "<table border=\"1\" class=\"dataframe\">\n",
       "  <thead>\n",
       "    <tr style=\"text-align: right;\">\n",
       "      <th></th>\n",
       "      <th>company_name</th>\n",
       "      <th>designation</th>\n",
       "      <th>country</th>\n",
       "      <th>pro_category</th>\n",
       "      <th>company_profile</th>\n",
       "      <th>is_confirmed</th>\n",
       "      <th>city</th>\n",
       "      <th>state</th>\n",
       "      <th>indemnity_undertaking</th>\n",
       "      <th>health_undertaking_accepted</th>\n",
       "      <th>exhibitor_deliverables_correct</th>\n",
       "      <th>stall_design_correct</th>\n",
       "    </tr>\n",
       "  </thead>\n",
       "  <tbody>\n",
       "    <tr>\n",
       "      <th>0</th>\n",
       "      <td>Exotron Thermal Private Limited</td>\n",
       "      <td>Business Development Engineer</td>\n",
       "      <td>India</td>\n",
       "      <td>Technology&amp;serviceprovider</td>\n",
       "      <td>NaN</td>\n",
       "      <td>0</td>\n",
       "      <td>Pune</td>\n",
       "      <td>Maharashtra</td>\n",
       "      <td>0</td>\n",
       "      <td>0</td>\n",
       "      <td>0</td>\n",
       "      <td>0</td>\n",
       "    </tr>\n",
       "    <tr>\n",
       "      <th>1</th>\n",
       "      <td>Morde Foods P Ltd</td>\n",
       "      <td>Manager - Engineering</td>\n",
       "      <td>India</td>\n",
       "      <td>Technology&amp;serviceprovider</td>\n",
       "      <td>NaN</td>\n",
       "      <td>0</td>\n",
       "      <td>Mumbai</td>\n",
       "      <td>Maharashtra</td>\n",
       "      <td>0</td>\n",
       "      <td>0</td>\n",
       "      <td>0</td>\n",
       "      <td>0</td>\n",
       "    </tr>\n",
       "    <tr>\n",
       "      <th>2</th>\n",
       "      <td>Morde Foods P Ltd</td>\n",
       "      <td>Sr Manager - Engineering</td>\n",
       "      <td>India</td>\n",
       "      <td>Technology&amp;serviceprovider</td>\n",
       "      <td>NaN</td>\n",
       "      <td>0</td>\n",
       "      <td>Mumbai</td>\n",
       "      <td>Maharashtra</td>\n",
       "      <td>0</td>\n",
       "      <td>0</td>\n",
       "      <td>0</td>\n",
       "      <td>0</td>\n",
       "    </tr>\n",
       "    <tr>\n",
       "      <th>3</th>\n",
       "      <td>ISO 9001:2015 , ISI, IBR, MSME, NSIC</td>\n",
       "      <td>Director Technical</td>\n",
       "      <td>India</td>\n",
       "      <td>Ancillaries</td>\n",
       "      <td>Greetings Sir,\\n\\n\\n\\nFounded in 1995, VALVCO ...</td>\n",
       "      <td>0</td>\n",
       "      <td>Jalandhar</td>\n",
       "      <td>Punjab</td>\n",
       "      <td>0</td>\n",
       "      <td>0</td>\n",
       "      <td>0</td>\n",
       "      <td>0</td>\n",
       "    </tr>\n",
       "    <tr>\n",
       "      <th>4</th>\n",
       "      <td>THE BOILER COMPONENTS MFG.CO.</td>\n",
       "      <td>director</td>\n",
       "      <td>India</td>\n",
       "      <td>Boilercomponentmanufacturer</td>\n",
       "      <td>NaN</td>\n",
       "      <td>0</td>\n",
       "      <td>North West Delhi</td>\n",
       "      <td>DELHI</td>\n",
       "      <td>0</td>\n",
       "      <td>0</td>\n",
       "      <td>0</td>\n",
       "      <td>0</td>\n",
       "    </tr>\n",
       "  </tbody>\n",
       "</table>\n",
       "</div>"
      ],
      "text/plain": [
       "                           company_name                    designation  \\\n",
       "0       Exotron Thermal Private Limited  Business Development Engineer   \n",
       "1                     Morde Foods P Ltd          Manager - Engineering   \n",
       "2                     Morde Foods P Ltd       Sr Manager - Engineering   \n",
       "3  ISO 9001:2015 , ISI, IBR, MSME, NSIC             Director Technical   \n",
       "4         THE BOILER COMPONENTS MFG.CO.                       director   \n",
       "\n",
       "  country                 pro_category  \\\n",
       "0   India   Technology&serviceprovider   \n",
       "1   India   Technology&serviceprovider   \n",
       "2   India   Technology&serviceprovider   \n",
       "3   India                  Ancillaries   \n",
       "4   India  Boilercomponentmanufacturer   \n",
       "\n",
       "                                     company_profile  is_confirmed  \\\n",
       "0                                                NaN             0   \n",
       "1                                                NaN             0   \n",
       "2                                                NaN             0   \n",
       "3  Greetings Sir,\\n\\n\\n\\nFounded in 1995, VALVCO ...             0   \n",
       "4                                                NaN             0   \n",
       "\n",
       "               city        state  indemnity_undertaking  \\\n",
       "0              Pune  Maharashtra                      0   \n",
       "1            Mumbai  Maharashtra                      0   \n",
       "2            Mumbai  Maharashtra                      0   \n",
       "3         Jalandhar       Punjab                      0   \n",
       "4  North West Delhi        DELHI                      0   \n",
       "\n",
       "   health_undertaking_accepted  exhibitor_deliverables_correct  \\\n",
       "0                            0                               0   \n",
       "1                            0                               0   \n",
       "2                            0                               0   \n",
       "3                            0                               0   \n",
       "4                            0                               0   \n",
       "\n",
       "   stall_design_correct  \n",
       "0                     0  \n",
       "1                     0  \n",
       "2                     0  \n",
       "3                     0  \n",
       "4                     0  "
      ]
     },
     "execution_count": 23,
     "metadata": {},
     "output_type": "execute_result"
    }
   ],
   "source": [
    "df_exhibitors_ml.head()"
   ]
  },
  {
   "cell_type": "markdown",
   "metadata": {},
   "source": [
    "Fixing spelling mistakes/typos and standardizing the names of states."
   ]
  },
  {
   "cell_type": "code",
   "execution_count": 24,
   "metadata": {},
   "outputs": [],
   "source": [
    "df_exhibitors_ml['state'] = df_exhibitors_ml['state'].str.upper()\n",
    "\n",
    "# Define a mapping of patterns to standard state names and their short forms\n",
    "state_pattern_mapping = {\n",
    "    '.MAHARASHTRA.': 'Maharashtra',\n",
    "    '.MAHARASTRA.': 'Maharashtra',\n",
    "    '.MAHARASTR.': 'Maharashtra',\n",
    "    '.MAHARSHTRA.': 'Maharashtra',\n",
    "    '.MH.': 'Maharashtra',\n",
    "    '.GUJARAT.': 'Gujarat',\n",
    "    '.GUJRAT.': 'Gujarat',\n",
    "    '.TAMIL NADU.': 'Tamil Nadu',\n",
    "    '.TAMILNADU.': 'Tamil Nadu',\n",
    "    '.TN.': 'Tamil Nadu',\n",
    "    '.UTTAR PRADESH.': 'Uttar Pradesh',\n",
    "    '.UP.': 'Uttar Pradesh',\n",
    "    '.HARYANA.': 'Haryana',\n",
    "    '.KARNATAKA.': 'Karnataka',\n",
    "    '.MADHYA PRADESH.': 'Madhya Pradesh',\n",
    "    '.WEST BENGAL.': 'West Bengal',\n",
    "    '.RAJASTHAN.': 'Rajasthan',\n",
    "    '.KERALA.': 'Kerala',\n",
    "    '.BIHAR.': 'Bihar',\n",
    "    '.TELANGANA.': 'Telangana',\n",
    "    '.PUNJAB.': 'Punjab',\n",
    "    '.ANDHRA PRADESH.': 'Andhra Pradesh',\n",
    "    '.JAMMU & KASHMIR.': 'Jammu & Kashmir',\n",
    "    '.DADRA AND NAGAR HAVELI.': 'Dadra and Nagar Haveli'\n",
    "}\n",
    "\n",
    "# Apply the pattern matching and replacement for state names\n",
    "for pattern, replacement in state_pattern_mapping.items():\n",
    "    df_exhibitors_ml['state'] = df_exhibitors_ml['state'].replace(pattern, replacement, regex=True)"
   ]
  },
  {
   "cell_type": "code",
   "execution_count": 25,
   "metadata": {},
   "outputs": [],
   "source": [
    "df_exhibitors_ml_easy = df_exhibitors_ml.drop('company_profile', axis=1)"
   ]
  },
  {
   "cell_type": "code",
   "execution_count": 26,
   "metadata": {},
   "outputs": [
    {
     "data": {
      "text/plain": [
       "Index(['company_name', 'designation', 'country', 'pro_category',\n",
       "       'is_confirmed', 'city', 'state', 'indemnity_undertaking',\n",
       "       'health_undertaking_accepted', 'exhibitor_deliverables_correct',\n",
       "       'stall_design_correct'],\n",
       "      dtype='object')"
      ]
     },
     "execution_count": 26,
     "metadata": {},
     "output_type": "execute_result"
    }
   ],
   "source": [
    "df_exhibitors_ml_easy.columns"
   ]
  },
  {
   "cell_type": "code",
   "execution_count": 27,
   "metadata": {},
   "outputs": [
    {
     "data": {
      "text/html": [
       "<div>\n",
       "<style scoped>\n",
       "    .dataframe tbody tr th:only-of-type {\n",
       "        vertical-align: middle;\n",
       "    }\n",
       "\n",
       "    .dataframe tbody tr th {\n",
       "        vertical-align: top;\n",
       "    }\n",
       "\n",
       "    .dataframe thead th {\n",
       "        text-align: right;\n",
       "    }\n",
       "</style>\n",
       "<table border=\"1\" class=\"dataframe\">\n",
       "  <thead>\n",
       "    <tr style=\"text-align: right;\">\n",
       "      <th></th>\n",
       "      <th>designation</th>\n",
       "      <th>profession</th>\n",
       "      <th>city</th>\n",
       "      <th>state</th>\n",
       "    </tr>\n",
       "  </thead>\n",
       "  <tbody>\n",
       "    <tr>\n",
       "      <th>0</th>\n",
       "      <td>Assistant Manager</td>\n",
       "      <td>Engineer/Operatorlookingfornewtechnology</td>\n",
       "      <td>Delhi</td>\n",
       "      <td>Delhi</td>\n",
       "    </tr>\n",
       "    <tr>\n",
       "      <th>1</th>\n",
       "      <td>Business Development Manager</td>\n",
       "      <td>Purchase personnel from boiler manufacturing c...</td>\n",
       "      <td>Hyderabad</td>\n",
       "      <td>Telanagana</td>\n",
       "    </tr>\n",
       "    <tr>\n",
       "      <th>2</th>\n",
       "      <td>Boiler Attendant</td>\n",
       "      <td>Engineer/Operatorlookingfornewtechnology</td>\n",
       "      <td>Solapur</td>\n",
       "      <td>Maharashtra</td>\n",
       "    </tr>\n",
       "    <tr>\n",
       "      <th>3</th>\n",
       "      <td>Assistant Manager - BD</td>\n",
       "      <td>RenewableEnergyProjectDeveloper</td>\n",
       "      <td>Pune</td>\n",
       "      <td>Maharashtra</td>\n",
       "    </tr>\n",
       "    <tr>\n",
       "      <th>4</th>\n",
       "      <td>Founder</td>\n",
       "      <td>PurchasePersonnelFromBoilerManufacturingCompany</td>\n",
       "      <td>Surat</td>\n",
       "      <td>Gujarat</td>\n",
       "    </tr>\n",
       "  </tbody>\n",
       "</table>\n",
       "</div>"
      ],
      "text/plain": [
       "                     designation  \\\n",
       "0              Assistant Manager   \n",
       "1  Business Development Manager    \n",
       "2              Boiler Attendant    \n",
       "3         Assistant Manager - BD   \n",
       "4                        Founder   \n",
       "\n",
       "                                          profession       city         state  \n",
       "0           Engineer/Operatorlookingfornewtechnology      Delhi         Delhi  \n",
       "1  Purchase personnel from boiler manufacturing c...  Hyderabad    Telanagana  \n",
       "2           Engineer/Operatorlookingfornewtechnology   Solapur   Maharashtra   \n",
       "3                    RenewableEnergyProjectDeveloper       Pune   Maharashtra  \n",
       "4    PurchasePersonnelFromBoilerManufacturingCompany      Surat       Gujarat  "
      ]
     },
     "execution_count": 27,
     "metadata": {},
     "output_type": "execute_result"
    }
   ],
   "source": [
    "df_visitors_ml.head()"
   ]
  },
  {
   "cell_type": "markdown",
   "metadata": {},
   "source": [
    "The next step is tokenizing important textual features so that we may use them for our recommendation algorithm. In `df_exhibitors_ml_easy` we chose the following - \n",
    "* `company_name`\n",
    "* `pro_category`\n",
    "* `city`\n",
    "* `state`"
   ]
  },
  {
   "cell_type": "code",
   "execution_count": 28,
   "metadata": {},
   "outputs": [
    {
     "name": "stderr",
     "output_type": "stream",
     "text": [
      "[nltk_data] Downloading package punkt to\n",
      "[nltk_data]     C:\\Users\\parth\\AppData\\Roaming\\nltk_data...\n",
      "[nltk_data]   Package punkt is already up-to-date!\n"
     ]
    },
    {
     "data": {
      "text/plain": [
       "0                   [Exotron, Thermal, Private, Limited]\n",
       "1                                 [Morde, Foods, P, Ltd]\n",
       "2                                 [Morde, Foods, P, Ltd]\n",
       "3      [ISO, 9001:2015, ,, ISI, ,, IBR, ,, MSME, ,, N...\n",
       "4                   [THE, BOILER, COMPONENTS, MFG.CO, .]\n",
       "                             ...                        \n",
       "462            [Total, Shipping, &, Logistics, Pvt, Ltd]\n",
       "463                                     [Manisha, steel]\n",
       "464                           [Performance, Engineering]\n",
       "465                        [Energy, Process, Equipments]\n",
       "466                       [supertech, fabrics, pvt, ltd]\n",
       "Name: company_name, Length: 461, dtype: object"
      ]
     },
     "execution_count": 28,
     "metadata": {},
     "output_type": "execute_result"
    }
   ],
   "source": [
    "# tokenize company name in df_exhibitors_ml_easy use nltk\n",
    "import nltk\n",
    "nltk.download('punkt')\n",
    "from nltk.tokenize import word_tokenize\n",
    "\n",
    "df_exhibitors_ml_easy['company_name'] = df_exhibitors_ml_easy['company_name'].apply(lambda x: word_tokenize(x))\n",
    "\n",
    "df_exhibitors_ml_easy['company_name']\n"
   ]
  },
  {
   "cell_type": "code",
   "execution_count": 29,
   "metadata": {},
   "outputs": [
    {
     "data": {
      "text/plain": [
       "0                   [exotron, thermal, private, limited]\n",
       "1                                 [morde, foods, p, ltd]\n",
       "2                                 [morde, foods, p, ltd]\n",
       "3      [iso, 9001:2015, ,, isi, ,, ibr, ,, msme, ,, n...\n",
       "4                   [the, boiler, components, mfg.co, .]\n",
       "                             ...                        \n",
       "462            [total, shipping, &, logistics, pvt, ltd]\n",
       "463                                     [manisha, steel]\n",
       "464                           [performance, engineering]\n",
       "465                        [energy, process, equipments]\n",
       "466                       [supertech, fabrics, pvt, ltd]\n",
       "Name: company_name, Length: 461, dtype: object"
      ]
     },
     "execution_count": 29,
     "metadata": {},
     "output_type": "execute_result"
    }
   ],
   "source": [
    "# convert company name to lowercase\n",
    "df_exhibitors_ml_easy['company_name'] = df_exhibitors_ml_easy['company_name'].apply(lambda x: [word.lower() for word in x])\n",
    "\n",
    "df_exhibitors_ml_easy['company_name']"
   ]
  },
  {
   "cell_type": "code",
   "execution_count": 30,
   "metadata": {},
   "outputs": [
    {
     "name": "stderr",
     "output_type": "stream",
     "text": [
      "[nltk_data] Downloading package stopwords to\n",
      "[nltk_data]     C:\\Users\\parth\\AppData\\Roaming\\nltk_data...\n",
      "[nltk_data]   Package stopwords is already up-to-date!\n"
     ]
    },
    {
     "data": {
      "text/plain": [
       "0                   [exotron, thermal, private, limited]\n",
       "1                                 [morde, foods, p, ltd]\n",
       "2                                 [morde, foods, p, ltd]\n",
       "3      [iso, 9001:2015, ,, isi, ,, ibr, ,, msme, ,, n...\n",
       "4                        [boiler, components, mfg.co, .]\n",
       "                             ...                        \n",
       "462            [total, shipping, &, logistics, pvt, ltd]\n",
       "463                                     [manisha, steel]\n",
       "464                           [performance, engineering]\n",
       "465                        [energy, process, equipments]\n",
       "466                       [supertech, fabrics, pvt, ltd]\n",
       "Name: company_name, Length: 461, dtype: object"
      ]
     },
     "execution_count": 30,
     "metadata": {},
     "output_type": "execute_result"
    }
   ],
   "source": [
    "# remove stopwords\n",
    "nltk.download('stopwords')\n",
    "from nltk.corpus import stopwords\n",
    "\n",
    "stop_words = set(stopwords.words('english'))\n",
    "\n",
    "df_exhibitors_ml_easy['company_name'] = df_exhibitors_ml_easy['company_name'].apply(lambda x: [word for word in x if word not in stop_words])\n",
    "\n",
    "df_exhibitors_ml_easy['company_name']"
   ]
  },
  {
   "cell_type": "code",
   "execution_count": 31,
   "metadata": {},
   "outputs": [
    {
     "data": {
      "text/plain": [
       "array(['Technology&serviceprovider', 'Ancillaries',\n",
       "       'Boilercomponentmanufacturer', 'Boilermanufacturer',\n",
       "       'Dealers/Traders/Distributors', 'Turbinemanufacturer',\n",
       "       'Professionals in NDE, energy audit, RLA and R&M',\n",
       "       'WTP, ETP & other pollution control equipment manufacturer'],\n",
       "      dtype=object)"
      ]
     },
     "execution_count": 31,
     "metadata": {},
     "output_type": "execute_result"
    }
   ],
   "source": [
    "df_exhibitors_ml_easy['pro_category'].unique()"
   ]
  },
  {
   "cell_type": "markdown",
   "metadata": {},
   "source": [
    "We also cleaned `pro_category` column by mapping their values with better and understandable format and easier to tokenize."
   ]
  },
  {
   "cell_type": "code",
   "execution_count": 32,
   "metadata": {},
   "outputs": [],
   "source": [
    "li = ['Technology&serviceprovider', 'Ancillaries',\n",
    "       'Boilercomponentmanufacturer', 'Boilermanufacturer',\n",
    "       'Dealers/Traders/Distributors', 'Turbinemanufacturer',\n",
    "       'Professionals in NDE, energy audit, RLA and R&M',\n",
    "       'WTP, ETP & other pollution control equipment manufacturer']\n",
    "\n",
    "vals = ['technology and service provider', 'ancillaries', 'boiler component manufacturer', 'boiler manufacturer',\n",
    "'dealer trader distributor', 'turbine manufacturer', 'professional nondestructive examiner energy audit rated load amp repair maintenance',\n",
    "'wtp etp & pollution control equipment manufacturer']\n",
    "\n",
    "# map li to vals\n",
    "my_map = dict(zip(li, vals))\n",
    "\n",
    "# use this map to convert 'pro_category'\n",
    "df_exhibitors_ml_easy['pro_category'] = df_exhibitors_ml_easy['pro_category'].map(my_map)"
   ]
  },
  {
   "cell_type": "code",
   "execution_count": 33,
   "metadata": {},
   "outputs": [],
   "source": [
    "# tokenize pro_category\n",
    "df_exhibitors_ml_easy['pro_category'] = df_exhibitors_ml_easy['pro_category'].apply(lambda x: word_tokenize(x))\n",
    "\n",
    "# remove stopwords\n",
    "df_exhibitors_ml_easy['pro_category'] = df_exhibitors_ml_easy['pro_category'].apply(lambda x: [word for word in x if word not in stop_words])"
   ]
  },
  {
   "cell_type": "code",
   "execution_count": 34,
   "metadata": {},
   "outputs": [
    {
     "data": {
      "text/plain": [
       "Index(['designation', 'profession', 'city', 'state'], dtype='object')"
      ]
     },
     "execution_count": 34,
     "metadata": {},
     "output_type": "execute_result"
    }
   ],
   "source": [
    "df_visitors_ml.columns"
   ]
  },
  {
   "cell_type": "code",
   "execution_count": 35,
   "metadata": {},
   "outputs": [],
   "source": [
    "# convert each str in city and state to a list containing one element also lowercase the string\n",
    "df_exhibitors_ml_easy['city'] = df_exhibitors_ml_easy['city'].apply(lambda x: [x.lower()])\n",
    "df_exhibitors_ml_easy['state'] = df_exhibitors_ml_easy['state'].apply(lambda x: [x.lower()])"
   ]
  },
  {
   "cell_type": "markdown",
   "metadata": {},
   "source": [
    "Combining all the tokenized columns into one"
   ]
  },
  {
   "cell_type": "code",
   "execution_count": 36,
   "metadata": {},
   "outputs": [
    {
     "data": {
      "text/plain": [
       "0      [exotron, thermal, private, limited, technolog...\n",
       "1      [morde, foods, p, ltd, technology, service, pr...\n",
       "2      [morde, foods, p, ltd, technology, service, pr...\n",
       "3      [iso, 9001:2015, ,, isi, ,, ibr, ,, msme, ,, n...\n",
       "4      [boiler, components, mfg.co, ., boiler, compon...\n",
       "                             ...                        \n",
       "462    [total, shipping, &, logistics, pvt, ltd, boil...\n",
       "463    [manisha, steel, boiler, component, manufactur...\n",
       "464    [performance, engineering, boiler, manufacture...\n",
       "465    [energy, process, equipments, boiler, manufact...\n",
       "466    [supertech, fabrics, pvt, ltd, ancillaries, va...\n",
       "Name: combined, Length: 461, dtype: object"
      ]
     },
     "execution_count": 36,
     "metadata": {},
     "output_type": "execute_result"
    }
   ],
   "source": [
    "# combine company_name, pro_category, city and state into one tokenized column\n",
    "\n",
    "df_exhibitors_ml_easy['combined'] = df_exhibitors_ml_easy['company_name'] + df_exhibitors_ml_easy['pro_category'] + df_exhibitors_ml_easy['city'] + df_exhibitors_ml_easy['state']\n",
    "\n",
    "df_exhibitors_ml_easy['combined']"
   ]
  },
  {
   "cell_type": "markdown",
   "metadata": {},
   "source": [
    "Creating a `Tfidf` vector out of this combined column so that we may apply our recommender algorithms on it."
   ]
  },
  {
   "cell_type": "code",
   "execution_count": 37,
   "metadata": {},
   "outputs": [
    {
     "data": {
      "text/plain": [
       "<461x759 sparse matrix of type '<class 'numpy.float64'>'\n",
       "\twith 3768 stored elements in Compressed Sparse Row format>"
      ]
     },
     "execution_count": 37,
     "metadata": {},
     "output_type": "execute_result"
    }
   ],
   "source": [
    "# convert this to a tfid matrix\n",
    "from sklearn.feature_extraction.text import TfidfVectorizer\n",
    "\n",
    "tfidf = TfidfVectorizer()\n",
    "\n",
    "tfidf_matrix_exhibitors = tfidf.fit_transform(df_exhibitors_ml_easy['combined'].apply(lambda x: ' '.join(x)))\n",
    "\n",
    "tfidf_matrix_exhibitors"
   ]
  },
  {
   "cell_type": "code",
   "execution_count": 38,
   "metadata": {},
   "outputs": [
    {
     "name": "stdout",
     "output_type": "stream",
     "text": [
      "0      exotron thermal private limited technology ser...\n",
      "1      morde foods p ltd technology service provider ...\n",
      "2      morde foods p ltd technology service provider ...\n",
      "3      iso 9001:2015 , isi , ibr , msme , nsic ancill...\n",
      "4      boiler components mfg.co . boiler component ma...\n",
      "                             ...                        \n",
      "462    total shipping & logistics pvt ltd boiler manu...\n",
      "463    manisha steel boiler component manufacturer mu...\n",
      "464    performance engineering boiler manufacturer an...\n",
      "465    energy process equipments boiler manufacturer ...\n",
      "466    supertech fabrics pvt ltd ancillaries vadodara...\n",
      "Name: combined, Length: 461, dtype: object\n"
     ]
    }
   ],
   "source": [
    "print(df_exhibitors_ml_easy['combined'].apply(lambda x: ' '.join(x)))"
   ]
  },
  {
   "cell_type": "markdown",
   "metadata": {},
   "source": [
    "We do the same thing to `df_visitors_ml` as we did to `df_exhibitors_ml_easy`."
   ]
  },
  {
   "cell_type": "code",
   "execution_count": 39,
   "metadata": {},
   "outputs": [
    {
     "name": "stdout",
     "output_type": "stream",
     "text": [
      "<class 'pandas.core.frame.DataFrame'>\n",
      "RangeIndex: 12165 entries, 0 to 12164\n",
      "Data columns (total 4 columns):\n",
      " #   Column       Non-Null Count  Dtype \n",
      "---  ------       --------------  ----- \n",
      " 0   designation  629 non-null    object\n",
      " 1   profession   12165 non-null  object\n",
      " 2   city         11853 non-null  object\n",
      " 3   state        11849 non-null  object\n",
      "dtypes: object(4)\n",
      "memory usage: 380.3+ KB\n"
     ]
    }
   ],
   "source": [
    "df_visitors_ml.info()"
   ]
  },
  {
   "cell_type": "code",
   "execution_count": 40,
   "metadata": {},
   "outputs": [],
   "source": [
    "df_visitors_ml.drop('designation', axis=1, inplace=True)"
   ]
  },
  {
   "cell_type": "code",
   "execution_count": 41,
   "metadata": {},
   "outputs": [],
   "source": [
    "# drop rows containing null values\n",
    "df_visitors_ml.dropna(inplace=True)"
   ]
  },
  {
   "cell_type": "code",
   "execution_count": 42,
   "metadata": {},
   "outputs": [
    {
     "data": {
      "text/plain": [
       "array(['Engineer/Operatorlookingfornewtechnology',\n",
       "       'Purchase personnel from boiler manufacturing company',\n",
       "       'RenewableEnergyProjectDeveloper',\n",
       "       'PurchasePersonnelFromBoilerManufacturingCompany',\n",
       "       'DesignEngineer/Consultant', 'Academician/student',\n",
       "       'Purchase personnel from boiler-user industry',\n",
       "       'Regulatory Authority/PolicyMaker/UrbanPlanningSpecialist/Utility&EnergyCompany',\n",
       "       'Academicians / students / engineering colleges',\n",
       "       'Regulatory authority / policy maker / urban planning specialist / utility & energy company',\n",
       "       'Engineer / operator looking for new technology', 'R&DInstitution',\n",
       "       'AgenciesDealingInInstrumentation',\n",
       "       'Agencies dealing in instrumentation',\n",
       "       'Design engineer / consultant',\n",
       "       'Investor/banker/ventureCapitalist',\n",
       "       'Investor / banker / venture capitalist', 'other'], dtype=object)"
      ]
     },
     "execution_count": 42,
     "metadata": {},
     "output_type": "execute_result"
    }
   ],
   "source": [
    "df_visitors_ml['profession'].unique()"
   ]
  },
  {
   "cell_type": "code",
   "execution_count": 43,
   "metadata": {},
   "outputs": [
    {
     "data": {
      "text/plain": [
       "0                    [engineer, operator, new, technology]\n",
       "1        [purchase, personnel, boiler, manufacturing, c...\n",
       "2                    [engineer, operator, new, technology]\n",
       "3                  [renewable, energy, project, developer]\n",
       "4        [purchase, personnel, boiler, manufacturing, c...\n",
       "                               ...                        \n",
       "12160        [purchase, personnel, boiler, user, industry]\n",
       "12161        [purchase, personnel, boiler, user, industry]\n",
       "12162                       [design, engineer, consultant]\n",
       "12163    [purchase, personnel, boiler, manufacturing, c...\n",
       "12164                       [design, engineer, consultant]\n",
       "Name: profession, Length: 11848, dtype: object"
      ]
     },
     "execution_count": 43,
     "metadata": {},
     "output_type": "execute_result"
    }
   ],
   "source": [
    "li_visitors = [\n",
    "    'Engineer/Operatorlookingfornewtechnology',\n",
    "    'Purchase personnel from boiler manufacturing company',\n",
    "    'RenewableEnergyProjectDeveloper',\n",
    "    'PurchasePersonnelFromBoilerManufacturingCompany',\n",
    "    'DesignEngineer/Consultant', 'Academician/student',\n",
    "    'Purchase personnel from boiler-user industry',\n",
    "    'Regulatory Authority/PolicyMaker/UrbanPlanningSpecialist/Utility&EnergyCompany',\n",
    "    'Academicians / students / engineering colleges',\n",
    "    'Regulatory authority / policy maker / urban planning specialist / utility & energy company',\n",
    "    'Engineer / operator looking for new technology', 'R&DInstitution',\n",
    "    'AgenciesDealingInInstrumentation',\n",
    "    'Agencies dealing in instrumentation',\n",
    "    'Design engineer / consultant',\n",
    "    'Investor/banker/ventureCapitalist',\n",
    "    'Investor / banker / venture capitalist', 'other'\n",
    "]\n",
    "\n",
    "vals_visitors = [\n",
    "    'engineer operator new technology',\n",
    "    'purchase personnel boiler manufacturing company',\n",
    "    'renewable energy project developer',\n",
    "    'purchase personnel boiler manufacturing company',\n",
    "    'design engineer consultant', 'academician student',\n",
    "    'purchase personnel boiler user industry',\n",
    "    'regulatory authority policy maker urban planning specialist utility energy company',\n",
    "    'academician student engineering college',\n",
    "    'regulatory authority policy maker urban planning specialist utility energy company',\n",
    "    'engineer operator new technology', 'research development institution',\n",
    "    'agencies deal instrumentation',\n",
    "    'agencies deal instrumentation',\n",
    "    'design engineer consultant',\n",
    "    'investor banker venture capitalist',\n",
    "    'investor banker venture capitalist', 'other'\n",
    "]\n",
    "\n",
    "my_map_visitors = dict(zip(li_visitors, vals_visitors))\n",
    "\n",
    "df_visitors_ml['profession'] = df_visitors_ml['profession'].map(my_map_visitors)\n",
    "\n",
    "df_visitors_ml['profession'] = df_visitors_ml['profession'].apply(lambda x: word_tokenize(x))\n",
    "\n",
    "df_visitors_ml['profession'] = df_visitors_ml['profession'].apply(lambda x: [word for word in x if word not in stop_words])\n",
    "\n",
    "df_visitors_ml['profession']"
   ]
  },
  {
   "cell_type": "code",
   "execution_count": 44,
   "metadata": {},
   "outputs": [],
   "source": [
    "df_visitors_ml['city'] = df_visitors_ml['city'].apply(lambda x: [x.lower()])\n",
    "df_visitors_ml['state'] = df_visitors_ml['state'].apply(lambda x: [x.lower()])"
   ]
  },
  {
   "cell_type": "code",
   "execution_count": 45,
   "metadata": {},
   "outputs": [
    {
     "data": {
      "text/plain": [
       "0        [engineer, operator, new, technology, delhi, d...\n",
       "1        [purchase, personnel, boiler, manufacturing, c...\n",
       "2        [engineer, operator, new, technology, solapur ...\n",
       "3        [renewable, energy, project, developer, pune, ...\n",
       "4        [purchase, personnel, boiler, manufacturing, c...\n",
       "                               ...                        \n",
       "12160    [purchase, personnel, boiler, user, industry, ...\n",
       "12161    [purchase, personnel, boiler, user, industry, ...\n",
       "12162    [design, engineer, consultant, nashik, maharas...\n",
       "12163    [purchase, personnel, boiler, manufacturing, c...\n",
       "12164    [design, engineer, consultant, mumbai, maharas...\n",
       "Name: combined, Length: 11848, dtype: object"
      ]
     },
     "execution_count": 45,
     "metadata": {},
     "output_type": "execute_result"
    }
   ],
   "source": [
    "# combine profession, city and state into one tokenized column\n",
    "\n",
    "df_visitors_ml['combined'] = df_visitors_ml['profession'] + df_visitors_ml['city'] + df_visitors_ml['state']\n",
    "\n",
    "df_visitors_ml['combined']"
   ]
  },
  {
   "cell_type": "code",
   "execution_count": 46,
   "metadata": {},
   "outputs": [
    {
     "data": {
      "text/plain": [
       "<11848x759 sparse matrix of type '<class 'numpy.float64'>'\n",
       "\twith 37898 stored elements in Compressed Sparse Row format>"
      ]
     },
     "execution_count": 46,
     "metadata": {},
     "output_type": "execute_result"
    }
   ],
   "source": [
    "# convert this to a tfid matrix\n",
    "tfidf_matrix_visitors = tfidf.transform(df_visitors_ml['combined'].apply(lambda x: ' '.join(x)))\n",
    "\n",
    "tfidf_matrix_visitors"
   ]
  },
  {
   "cell_type": "markdown",
   "metadata": {},
   "source": [
    "## 2. Model Building"
   ]
  },
  {
   "cell_type": "markdown",
   "metadata": {},
   "source": [
    "We tried 3 different algorithms to find out similarities between exhibitors and visitors"
   ]
  },
  {
   "cell_type": "markdown",
   "metadata": {},
   "source": [
    "### 2.1. Cosine Similarity"
   ]
  },
  {
   "cell_type": "code",
   "execution_count": 47,
   "metadata": {},
   "outputs": [
    {
     "data": {
      "text/plain": [
       "array([[0.05358213, 0.        , 0.13459417, ..., 0.03254584, 0.        ,\n",
       "        0.08308878],\n",
       "       [0.0596231 , 0.        , 0.14976864, ..., 0.03621513, 0.        ,\n",
       "        0.18934737],\n",
       "       [0.0596231 , 0.        , 0.14976864, ..., 0.03621513, 0.        ,\n",
       "        0.18934737],\n",
       "       ...,\n",
       "       [0.        , 0.04866673, 0.        , ..., 0.        , 0.04320372,\n",
       "        0.        ],\n",
       "       [0.        , 0.04864124, 0.        , ..., 0.        , 0.04318108,\n",
       "        0.        ],\n",
       "       [0.        , 0.        , 0.        , ..., 0.        , 0.        ,\n",
       "        0.        ]])"
      ]
     },
     "execution_count": 47,
     "metadata": {},
     "output_type": "execute_result"
    }
   ],
   "source": [
    "# recommendation generation\n",
    "from sklearn.metrics.pairwise import cosine_similarity\n",
    "\n",
    "cosine_sim = cosine_similarity(tfidf_matrix_exhibitors, tfidf_matrix_visitors)\n",
    "\n",
    "cosine_sim\n"
   ]
  },
  {
   "cell_type": "code",
   "execution_count": 48,
   "metadata": {},
   "outputs": [
    {
     "data": {
      "text/plain": [
       "[(138, 0.7949199736123486),\n",
       " (26, 0.7449697837687091),\n",
       " (53, 0.7384581376752204),\n",
       " (62, 0.7243526289642903),\n",
       " (123, 0.7083507044195018),\n",
       " (46, 0.624949909213203),\n",
       " (260, 0.6142955666227381),\n",
       " (131, 0.6034657098872553),\n",
       " (4, 0.4806763998774414),\n",
       " (237, 0.15774683127541853),\n",
       " (107, 0.11280914130165332),\n",
       " (371, 0.07680079306220321),\n",
       " (21, 0.07472661849681844),\n",
       " (308, 0.07472661849681844),\n",
       " (317, 0.07472661849681844),\n",
       " (437, 0.07124174787369775),\n",
       " (7, 0.07034849466140608),\n",
       " (11, 0.06984237931067616),\n",
       " (99, 0.0648108244938934),\n",
       " (277, 0.0644100834353049),\n",
       " (258, 0.06418234925460485),\n",
       " (94, 0.06320520368503978),\n",
       " (218, 0.0606015951377954),\n",
       " (311, 0.06053899818716619),\n",
       " (1, 0.059623104559691484),\n",
       " (2, 0.059623104559691484),\n",
       " (387, 0.059623104559691484),\n",
       " (18, 0.059095659745368886),\n",
       " (139, 0.0589382245529048),\n",
       " (49, 0.05798293199192859),\n",
       " (104, 0.05693496254957108),\n",
       " (335, 0.056784560037291563),\n",
       " (259, 0.056399171881317926),\n",
       " (356, 0.05603228517331416),\n",
       " (85, 0.055908212119764336),\n",
       " (50, 0.05579907190368882),\n",
       " (195, 0.05544629904402772),\n",
       " (68, 0.055374054950652334),\n",
       " (119, 0.055365109189643304),\n",
       " (348, 0.05500006512274874),\n",
       " (76, 0.05438837047405937),\n",
       " (148, 0.05436685519386349),\n",
       " (287, 0.054003838386364654),\n",
       " (226, 0.053921381151884315),\n",
       " (0, 0.05358212718504284),\n",
       " (8, 0.053201304979850754),\n",
       " (227, 0.05310741070537949),\n",
       " (12, 0.052982194644206754),\n",
       " (217, 0.052798787675999416),\n",
       " (120, 0.05279461301609928),\n",
       " (225, 0.05279076873850254),\n",
       " (378, 0.05279076873850254),\n",
       " (423, 0.05267432643486928),\n",
       " (205, 0.0526047978294896),\n",
       " (69, 0.05230199226120079),\n",
       " (293, 0.05202104729533241),\n",
       " (39, 0.051841471026729175),\n",
       " (192, 0.051722352728186406),\n",
       " (331, 0.05142886201000414),\n",
       " (206, 0.05120742553586387),\n",
       " (283, 0.0506270694776363),\n",
       " (252, 0.05022322104434195),\n",
       " (9, 0.050221342924276845),\n",
       " (455, 0.04971106707835639),\n",
       " (177, 0.04970973460199442),\n",
       " (204, 0.04962628761355661),\n",
       " (300, 0.04950956556923448),\n",
       " (73, 0.049261025884606555),\n",
       " (323, 0.049223582280684235),\n",
       " (154, 0.048963938218244345),\n",
       " (156, 0.04885119957331045),\n",
       " (362, 0.04844639303455022),\n",
       " (373, 0.048397199611959416),\n",
       " (276, 0.048384456385382205),\n",
       " (271, 0.04810457137952717),\n",
       " (114, 0.04758046147276609),\n",
       " (201, 0.0474514188469874),\n",
       " (169, 0.04724120902425473),\n",
       " (157, 0.0472238985448313),\n",
       " (305, 0.047114506483482824),\n",
       " (178, 0.04685772039127115),\n",
       " (141, 0.04679874904485089),\n",
       " (161, 0.04677142621252644),\n",
       " (81, 0.04657177894604072),\n",
       " (173, 0.04646068835578568),\n",
       " (386, 0.046283812633763424),\n",
       " (17, 0.046246818865720504),\n",
       " (453, 0.04576178289610296),\n",
       " (117, 0.0454806519053008),\n",
       " (264, 0.04453830422398511),\n",
       " (299, 0.04417003852811909),\n",
       " (6, 0.04402821160530253),\n",
       " (74, 0.04369740001485922),\n",
       " (275, 0.043251946851042965),\n",
       " (400, 0.043094143827262274),\n",
       " (105, 0.04250368473298886),\n",
       " (349, 0.04168079537054089),\n",
       " (151, 0.0414177855476181),\n",
       " (111, 0.04072300262611847),\n",
       " (412, 0.03900055099979203),\n",
       " (363, 0.038713978156045645),\n",
       " (149, 0.0373085510970784),\n",
       " (3, 0.0),\n",
       " (5, 0.0),\n",
       " (10, 0.0),\n",
       " (13, 0.0),\n",
       " (14, 0.0),\n",
       " (15, 0.0),\n",
       " (16, 0.0),\n",
       " (19, 0.0),\n",
       " (20, 0.0),\n",
       " (22, 0.0),\n",
       " (23, 0.0),\n",
       " (24, 0.0),\n",
       " (25, 0.0),\n",
       " (27, 0.0),\n",
       " (28, 0.0),\n",
       " (29, 0.0),\n",
       " (30, 0.0),\n",
       " (31, 0.0),\n",
       " (32, 0.0),\n",
       " (33, 0.0),\n",
       " (34, 0.0),\n",
       " (35, 0.0),\n",
       " (36, 0.0),\n",
       " (37, 0.0),\n",
       " (38, 0.0),\n",
       " (40, 0.0),\n",
       " (41, 0.0),\n",
       " (42, 0.0),\n",
       " (43, 0.0),\n",
       " (44, 0.0),\n",
       " (45, 0.0),\n",
       " (47, 0.0),\n",
       " (48, 0.0),\n",
       " (51, 0.0),\n",
       " (52, 0.0),\n",
       " (54, 0.0),\n",
       " (55, 0.0),\n",
       " (56, 0.0),\n",
       " (57, 0.0),\n",
       " (58, 0.0),\n",
       " (59, 0.0),\n",
       " (60, 0.0),\n",
       " (61, 0.0),\n",
       " (63, 0.0),\n",
       " (64, 0.0),\n",
       " (65, 0.0),\n",
       " (66, 0.0),\n",
       " (67, 0.0),\n",
       " (70, 0.0),\n",
       " (71, 0.0),\n",
       " (72, 0.0),\n",
       " (75, 0.0),\n",
       " (77, 0.0),\n",
       " (78, 0.0),\n",
       " (79, 0.0),\n",
       " (80, 0.0),\n",
       " (82, 0.0),\n",
       " (83, 0.0),\n",
       " (84, 0.0),\n",
       " (86, 0.0),\n",
       " (87, 0.0),\n",
       " (88, 0.0),\n",
       " (89, 0.0),\n",
       " (90, 0.0),\n",
       " (91, 0.0),\n",
       " (92, 0.0),\n",
       " (93, 0.0),\n",
       " (95, 0.0),\n",
       " (96, 0.0),\n",
       " (97, 0.0),\n",
       " (98, 0.0),\n",
       " (100, 0.0),\n",
       " (101, 0.0),\n",
       " (102, 0.0),\n",
       " (103, 0.0),\n",
       " (106, 0.0),\n",
       " (108, 0.0),\n",
       " (109, 0.0),\n",
       " (110, 0.0),\n",
       " (112, 0.0),\n",
       " (113, 0.0),\n",
       " (115, 0.0),\n",
       " (116, 0.0),\n",
       " (118, 0.0),\n",
       " (121, 0.0),\n",
       " (122, 0.0),\n",
       " (124, 0.0),\n",
       " (125, 0.0),\n",
       " (126, 0.0),\n",
       " (127, 0.0),\n",
       " (128, 0.0),\n",
       " (129, 0.0),\n",
       " (130, 0.0),\n",
       " (132, 0.0),\n",
       " (133, 0.0),\n",
       " (134, 0.0),\n",
       " (135, 0.0),\n",
       " (136, 0.0),\n",
       " (137, 0.0),\n",
       " (140, 0.0),\n",
       " (142, 0.0),\n",
       " (143, 0.0),\n",
       " (144, 0.0),\n",
       " (145, 0.0),\n",
       " (146, 0.0),\n",
       " (147, 0.0),\n",
       " (150, 0.0),\n",
       " (152, 0.0),\n",
       " (153, 0.0),\n",
       " (155, 0.0),\n",
       " (158, 0.0),\n",
       " (159, 0.0),\n",
       " (160, 0.0),\n",
       " (162, 0.0),\n",
       " (163, 0.0),\n",
       " (164, 0.0),\n",
       " (165, 0.0),\n",
       " (166, 0.0),\n",
       " (167, 0.0),\n",
       " (168, 0.0),\n",
       " (170, 0.0),\n",
       " (171, 0.0),\n",
       " (172, 0.0),\n",
       " (174, 0.0),\n",
       " (175, 0.0),\n",
       " (176, 0.0),\n",
       " (179, 0.0),\n",
       " (180, 0.0),\n",
       " (181, 0.0),\n",
       " (182, 0.0),\n",
       " (183, 0.0),\n",
       " (184, 0.0),\n",
       " (185, 0.0),\n",
       " (186, 0.0),\n",
       " (187, 0.0),\n",
       " (188, 0.0),\n",
       " (189, 0.0),\n",
       " (190, 0.0),\n",
       " (191, 0.0),\n",
       " (193, 0.0),\n",
       " (194, 0.0),\n",
       " (196, 0.0),\n",
       " (197, 0.0),\n",
       " (198, 0.0),\n",
       " (199, 0.0),\n",
       " (200, 0.0),\n",
       " (202, 0.0),\n",
       " (203, 0.0),\n",
       " (207, 0.0),\n",
       " (208, 0.0),\n",
       " (209, 0.0),\n",
       " (210, 0.0),\n",
       " (211, 0.0),\n",
       " (212, 0.0),\n",
       " (213, 0.0),\n",
       " (214, 0.0),\n",
       " (215, 0.0),\n",
       " (216, 0.0),\n",
       " (219, 0.0),\n",
       " (220, 0.0),\n",
       " (221, 0.0),\n",
       " (222, 0.0),\n",
       " (223, 0.0),\n",
       " (224, 0.0),\n",
       " (228, 0.0),\n",
       " (229, 0.0),\n",
       " (230, 0.0),\n",
       " (231, 0.0),\n",
       " (232, 0.0),\n",
       " (233, 0.0),\n",
       " (234, 0.0),\n",
       " (235, 0.0),\n",
       " (236, 0.0),\n",
       " (238, 0.0),\n",
       " (239, 0.0),\n",
       " (240, 0.0),\n",
       " (241, 0.0),\n",
       " (242, 0.0),\n",
       " (243, 0.0),\n",
       " (244, 0.0),\n",
       " (245, 0.0),\n",
       " (246, 0.0),\n",
       " (247, 0.0),\n",
       " (248, 0.0),\n",
       " (249, 0.0),\n",
       " (250, 0.0),\n",
       " (251, 0.0),\n",
       " (253, 0.0),\n",
       " (254, 0.0),\n",
       " (255, 0.0),\n",
       " (256, 0.0),\n",
       " (257, 0.0),\n",
       " (261, 0.0),\n",
       " (262, 0.0),\n",
       " (263, 0.0),\n",
       " (265, 0.0),\n",
       " (266, 0.0),\n",
       " (267, 0.0),\n",
       " (268, 0.0),\n",
       " (269, 0.0),\n",
       " (270, 0.0),\n",
       " (272, 0.0),\n",
       " (273, 0.0),\n",
       " (274, 0.0),\n",
       " (278, 0.0),\n",
       " (279, 0.0),\n",
       " (280, 0.0),\n",
       " (281, 0.0),\n",
       " (282, 0.0),\n",
       " (284, 0.0),\n",
       " (285, 0.0),\n",
       " (286, 0.0),\n",
       " (288, 0.0),\n",
       " (289, 0.0),\n",
       " (290, 0.0),\n",
       " (291, 0.0),\n",
       " (292, 0.0),\n",
       " (294, 0.0),\n",
       " (295, 0.0),\n",
       " (296, 0.0),\n",
       " (297, 0.0),\n",
       " (298, 0.0),\n",
       " (301, 0.0),\n",
       " (302, 0.0),\n",
       " (303, 0.0),\n",
       " (304, 0.0),\n",
       " (306, 0.0),\n",
       " (307, 0.0),\n",
       " (309, 0.0),\n",
       " (310, 0.0),\n",
       " (312, 0.0),\n",
       " (313, 0.0),\n",
       " (314, 0.0),\n",
       " (315, 0.0),\n",
       " (316, 0.0),\n",
       " (318, 0.0),\n",
       " (319, 0.0),\n",
       " (320, 0.0),\n",
       " (321, 0.0),\n",
       " (322, 0.0),\n",
       " (324, 0.0),\n",
       " (325, 0.0),\n",
       " (326, 0.0),\n",
       " (327, 0.0),\n",
       " (328, 0.0),\n",
       " (329, 0.0),\n",
       " (330, 0.0),\n",
       " (332, 0.0),\n",
       " (333, 0.0),\n",
       " (334, 0.0),\n",
       " (336, 0.0),\n",
       " (337, 0.0),\n",
       " (338, 0.0),\n",
       " (339, 0.0),\n",
       " (340, 0.0),\n",
       " (341, 0.0),\n",
       " (342, 0.0),\n",
       " (343, 0.0),\n",
       " (344, 0.0),\n",
       " (345, 0.0),\n",
       " (346, 0.0),\n",
       " (347, 0.0),\n",
       " (350, 0.0),\n",
       " (351, 0.0),\n",
       " (352, 0.0),\n",
       " (353, 0.0),\n",
       " (354, 0.0),\n",
       " (355, 0.0),\n",
       " (357, 0.0),\n",
       " (358, 0.0),\n",
       " (359, 0.0),\n",
       " (360, 0.0),\n",
       " (361, 0.0),\n",
       " (364, 0.0),\n",
       " (365, 0.0),\n",
       " (366, 0.0),\n",
       " (367, 0.0),\n",
       " (368, 0.0),\n",
       " (369, 0.0),\n",
       " (370, 0.0),\n",
       " (372, 0.0),\n",
       " (374, 0.0),\n",
       " (375, 0.0),\n",
       " (376, 0.0),\n",
       " (377, 0.0),\n",
       " (379, 0.0),\n",
       " (380, 0.0),\n",
       " (381, 0.0),\n",
       " (382, 0.0),\n",
       " (383, 0.0),\n",
       " (384, 0.0),\n",
       " (385, 0.0),\n",
       " (388, 0.0),\n",
       " (389, 0.0),\n",
       " (390, 0.0),\n",
       " (391, 0.0),\n",
       " (392, 0.0),\n",
       " (393, 0.0),\n",
       " (394, 0.0),\n",
       " (395, 0.0),\n",
       " (396, 0.0),\n",
       " (397, 0.0),\n",
       " (398, 0.0),\n",
       " (399, 0.0),\n",
       " (401, 0.0),\n",
       " (402, 0.0),\n",
       " (403, 0.0),\n",
       " (404, 0.0),\n",
       " (405, 0.0),\n",
       " (406, 0.0),\n",
       " (407, 0.0),\n",
       " (408, 0.0),\n",
       " (409, 0.0),\n",
       " (410, 0.0),\n",
       " (411, 0.0),\n",
       " (413, 0.0),\n",
       " (414, 0.0),\n",
       " (415, 0.0),\n",
       " (416, 0.0),\n",
       " (417, 0.0),\n",
       " (418, 0.0),\n",
       " (419, 0.0),\n",
       " (420, 0.0),\n",
       " (421, 0.0),\n",
       " (422, 0.0),\n",
       " (424, 0.0),\n",
       " (425, 0.0),\n",
       " (426, 0.0),\n",
       " (427, 0.0),\n",
       " (428, 0.0),\n",
       " (429, 0.0),\n",
       " (430, 0.0),\n",
       " (431, 0.0),\n",
       " (432, 0.0),\n",
       " (433, 0.0),\n",
       " (434, 0.0),\n",
       " (435, 0.0),\n",
       " (436, 0.0),\n",
       " (438, 0.0),\n",
       " (439, 0.0),\n",
       " (440, 0.0),\n",
       " (441, 0.0),\n",
       " (442, 0.0),\n",
       " (443, 0.0),\n",
       " (444, 0.0),\n",
       " (445, 0.0),\n",
       " (446, 0.0),\n",
       " (447, 0.0),\n",
       " (448, 0.0),\n",
       " (449, 0.0),\n",
       " (450, 0.0),\n",
       " (451, 0.0),\n",
       " (452, 0.0),\n",
       " (454, 0.0),\n",
       " (456, 0.0),\n",
       " (457, 0.0),\n",
       " (458, 0.0),\n",
       " (459, 0.0),\n",
       " (460, 0.0)]"
      ]
     },
     "execution_count": 48,
     "metadata": {},
     "output_type": "execute_result"
    }
   ],
   "source": [
    "# generate recommendation for a random visitor\n",
    "visitor_index = 0\n",
    "recommendations = list(enumerate(cosine_sim[:, visitor_index]))\n",
    "\n",
    "recommendations = sorted(recommendations, key=lambda x: x[1], reverse=True)\n",
    "\n",
    "recommendations"
   ]
  },
  {
   "cell_type": "code",
   "execution_count": 49,
   "metadata": {},
   "outputs": [
    {
     "data": {
      "text/plain": [
       "'Exotron Thermal Private Limited'"
      ]
     },
     "execution_count": 49,
     "metadata": {},
     "output_type": "execute_result"
    }
   ],
   "source": [
    "# get company names from df_exhibitors_ml\n",
    "company_names = df_exhibitors_ml['company_name']\n",
    "company_names[0]"
   ]
  },
  {
   "cell_type": "code",
   "execution_count": 50,
   "metadata": {},
   "outputs": [],
   "source": [
    "# get company rep names and mobile numbers\n",
    "company_repNames = df_exhibitors['company_repName']\n",
    "company_repMobileNumbers = df_exhibitors['mobile_no']"
   ]
  },
  {
   "cell_type": "markdown",
   "metadata": {},
   "source": [
    "### 2.2. Pearson Correlation"
   ]
  },
  {
   "cell_type": "code",
   "execution_count": 51,
   "metadata": {},
   "outputs": [
    {
     "name": "stderr",
     "output_type": "stream",
     "text": [
      "c:\\Users\\parth\\AppData\\Local\\Programs\\Python\\Python311\\Lib\\site-packages\\numpy\\lib\\function_base.py:2853: RuntimeWarning: invalid value encountered in divide\n",
      "  c /= stddev[:, None]\n",
      "c:\\Users\\parth\\AppData\\Local\\Programs\\Python\\Python311\\Lib\\site-packages\\numpy\\lib\\function_base.py:2854: RuntimeWarning: invalid value encountered in divide\n",
      "  c /= stddev[None, :]\n"
     ]
    },
    {
     "data": {
      "text/plain": [
       "array([[ 1.        ,  0.19475158,  0.19475158, ...,  0.02835514,\n",
       "        -0.0069048 ,  0.07746475],\n",
       "       [ 0.19475158,  1.        ,  1.        , ...,  0.03237975,\n",
       "        -0.00633469,  0.18481874],\n",
       "       [ 0.19475158,  1.        ,  1.        , ...,  0.03237975,\n",
       "        -0.00633469,  0.18481874],\n",
       "       ...,\n",
       "       [ 0.02835514,  0.03237975,  0.03237975, ...,  1.        ,\n",
       "        -0.00305318,  0.1462852 ],\n",
       "       [-0.0069048 , -0.00633469, -0.00633469, ..., -0.00305318,\n",
       "         1.        , -0.00431608],\n",
       "       [ 0.07746475,  0.18481874,  0.18481874, ...,  0.1462852 ,\n",
       "        -0.00431608,  1.        ]])"
      ]
     },
     "execution_count": 51,
     "metadata": {},
     "output_type": "execute_result"
    }
   ],
   "source": [
    "pearson_sim = np.corrcoef(tfidf_matrix_exhibitors.toarray(), tfidf_matrix_visitors.toarray())\n",
    "\n",
    "pearson_sim"
   ]
  },
  {
   "cell_type": "markdown",
   "metadata": {},
   "source": [
    "### 2.3. Euclidean Distance"
   ]
  },
  {
   "cell_type": "code",
   "execution_count": 52,
   "metadata": {},
   "outputs": [
    {
     "data": {
      "text/plain": [
       "array([[1.37580367, 1.41421356, 1.31560315, ..., 1.39100982, 1.41421356,\n",
       "        1.35418701],\n",
       "       [1.37140577, 1.41421356, 1.30401792, ..., 1.38836945, 1.41421356,\n",
       "        1.27330485],\n",
       "       [1.37140577, 1.41421356, 1.30401792, ..., 1.38836945, 1.41421356,\n",
       "        1.27330485],\n",
       "       ...,\n",
       "       [1.41421356, 1.37937179, 1.41421356, ..., 1.41421356, 1.38332663,\n",
       "        1.41421356],\n",
       "       [1.41421356, 1.37939027, 1.41421356, ..., 1.41421356, 1.38334299,\n",
       "        1.41421356],\n",
       "       [1.41421356, 1.41421356, 1.41421356, ..., 1.41421356, 1.41421356,\n",
       "        1.41421356]])"
      ]
     },
     "execution_count": 52,
     "metadata": {},
     "output_type": "execute_result"
    }
   ],
   "source": [
    "# get euclidean distances\n",
    "\n",
    "from sklearn.metrics.pairwise import euclidean_distances\n",
    "\n",
    "euclidean_sim = euclidean_distances(tfidf_matrix_exhibitors, tfidf_matrix_visitors)\n",
    "\n",
    "euclidean_sim"
   ]
  },
  {
   "cell_type": "code",
   "execution_count": 53,
   "metadata": {},
   "outputs": [],
   "source": [
    "def get_exhibitor_recommendation(visitor_index:int, similarity=cosine_sim):\n",
    "    recommendations = list(enumerate(similarity[:, visitor_index]))\n",
    "    recommendations = sorted(recommendations, key=lambda x: x[1], reverse=True)\n",
    "    recommendations = recommendations[:5]\n",
    "    recs = list()\n",
    "    for recommendation in recommendations:\n",
    "        recs.append((\n",
    "            company_names[recommendation[0]],\n",
    "            company_repNames[recommendation[0]],\n",
    "            company_repMobileNumbers[recommendation[0]],\n",
    "            recommendation[0]))\n",
    "    return recs"
   ]
  },
  {
   "cell_type": "code",
   "execution_count": 54,
   "metadata": {},
   "outputs": [
    {
     "data": {
      "text/plain": [
       "[('Alfa Boilers Pvt. Ltd.', 'Chandrakant Wani', '+919922066661', 372),\n",
       " ('TPP Boilers Pvt. Ltd.', 'Sameer Chaughule', '9892375511', 356),\n",
       " ('MOONLIGHT TUBE INDUSTRIES', 'JIGAR VANJARA', '+919898878926', 323),\n",
       " ('Tubacex Service Solutions India Pvt. Ltd.',\n",
       "  'Kunal K. Singh',\n",
       "  '+919769618969',\n",
       "  254),\n",
       " ('Alfa Boilers Pvt. Ltd.', 'Gautam Pawar', '+917720098866', 381)]"
      ]
     },
     "execution_count": 54,
     "metadata": {},
     "output_type": "execute_result"
    }
   ],
   "source": [
    "get_exhibitor_recommendation(11, similarity=cosine_sim)"
   ]
  },
  {
   "cell_type": "code",
   "execution_count": 55,
   "metadata": {},
   "outputs": [
    {
     "data": {
      "text/plain": [
       "[('BiofuelCircle Pvt. Ltd.', 'Binish Surendran', '+919850313900', 11),\n",
       " ('GulJag Industries Ltd', 'Govind Sharda', '+919772696000', 277),\n",
       " ('HINDUSTAN PETROLEUM CORPORATION LIMITED',\n",
       "  'ARIJEET KARMAKAR',\n",
       "  '+919770254767',\n",
       "  331),\n",
       " ('sawhney industries', 'karan sawhney', '+919999950064', 139),\n",
       " ('Alfa Boiler Pvt. Ltd.', 'Mallikarjun Menkudale', '+919921439644', 7)]"
      ]
     },
     "execution_count": 55,
     "metadata": {},
     "output_type": "execute_result"
    }
   ],
   "source": [
    "get_exhibitor_recommendation(11, similarity=pearson_sim)"
   ]
  },
  {
   "cell_type": "code",
   "execution_count": 56,
   "metadata": {},
   "outputs": [
    {
     "data": {
      "text/plain": [
       "[('Tata steel Ltd', 'Sanjay c raich', '+919205853991', 81),\n",
       " ('Precision Mass Products Private Limited',\n",
       "  'Valmik Patel',\n",
       "  '+919712578787',\n",
       "  88),\n",
       " ('Maruti seals pvt ltd', 'Prashant sarode', '+917798421230', 171),\n",
       " ('Sapsons Industrial Equipments Pvt. Ltd.',\n",
       "  'A Athi Pandian',\n",
       "  '+919810356615',\n",
       "  178),\n",
       " ('MH FLUID', 'MAYURI HARIDAS', '+918788134393', 193)]"
      ]
     },
     "execution_count": 56,
     "metadata": {},
     "output_type": "execute_result"
    }
   ],
   "source": [
    "get_exhibitor_recommendation(11, similarity=euclidean_sim)"
   ]
  },
  {
   "cell_type": "markdown",
   "metadata": {},
   "source": [
    "Finally, `cosine_similarity` found itself as our algorithm of choice based on our observed results."
   ]
  },
  {
   "cell_type": "markdown",
   "metadata": {},
   "source": [
    "### 2.4. Creating a recommendation model based on the visitor's previous ratings."
   ]
  },
  {
   "cell_type": "code",
   "execution_count": 57,
   "metadata": {},
   "outputs": [
    {
     "name": "stdout",
     "output_type": "stream",
     "text": [
      "<class 'pandas.core.frame.DataFrame'>\n",
      "RangeIndex: 13 entries, 0 to 12\n",
      "Data columns (total 3 columns):\n",
      " #   Column     Non-Null Count  Dtype  \n",
      "---  ------     --------------  -----  \n",
      " 0   visitor    13 non-null     int64  \n",
      " 1   exhibitor  13 non-null     int64  \n",
      " 2   rating     13 non-null     float64\n",
      "dtypes: float64(1), int64(2)\n",
      "memory usage: 444.0 bytes\n"
     ]
    }
   ],
   "source": [
    "df_attended_events = pd.read_csv('attended_events.csv')\n",
    "df_attended_events.info()"
   ]
  },
  {
   "cell_type": "code",
   "execution_count": 58,
   "metadata": {},
   "outputs": [
    {
     "data": {
      "text/plain": [
       "{13.0: [(18.0, 1.5), (19.0, 5.0), (40.0, 4.0)],\n",
       " 56.0: [(11.0, 3.5), (90.0, 2.0)],\n",
       " 138.0: [(179.0, 4.5), (384.0, 3.0), (144.0, 1.0), (215.0, 3.5)],\n",
       " 348.0: [(97.0, 2.5), (351.0, 4.0)],\n",
       " 197.0: [(309.0, 3.0)],\n",
       " 4.0: [(439.0, 3.0)]}"
      ]
     },
     "execution_count": 58,
     "metadata": {},
     "output_type": "execute_result"
    }
   ],
   "source": [
    "visitor_attended = dict()\n",
    "for index, row in df_attended_events.iterrows():\n",
    "    if row['visitor'] in visitor_attended:\n",
    "        visitor_attended[row['visitor']].append((row['exhibitor'], row['rating']))\n",
    "    else:\n",
    "        visitor_attended[row['visitor']] = [(row['exhibitor'], row['rating'])]\n",
    "\n",
    "visitor_attended"
   ]
  },
  {
   "cell_type": "code",
   "execution_count": 59,
   "metadata": {},
   "outputs": [
    {
     "data": {
      "text/plain": [
       "array([[1.        , 0.20200213, 0.20200213, ..., 0.        , 0.        ,\n",
       "        0.        ],\n",
       "       [0.20200213, 1.        , 1.        , ..., 0.        , 0.        ,\n",
       "        0.03114498],\n",
       "       [0.20200213, 1.        , 1.        , ..., 0.        , 0.        ,\n",
       "        0.03114498],\n",
       "       ...,\n",
       "       [0.        , 0.        , 0.        , ..., 1.        , 0.14957231,\n",
       "        0.08534529],\n",
       "       [0.        , 0.        , 0.        , ..., 0.14957231, 1.        ,\n",
       "        0.27162856],\n",
       "       [0.        , 0.03114498, 0.03114498, ..., 0.08534529, 0.27162856,\n",
       "        1.        ]])"
      ]
     },
     "execution_count": 59,
     "metadata": {},
     "output_type": "execute_result"
    }
   ],
   "source": [
    "# get similarity of exhibitors\n",
    "cosine_sim_exhibitors = cosine_similarity(tfidf_matrix_exhibitors)\n",
    "cosine_sim_exhibitors"
   ]
  },
  {
   "cell_type": "code",
   "execution_count": 60,
   "metadata": {},
   "outputs": [],
   "source": [
    "# for all the exhibitors of a visitor, get two similar exhibitors\n",
    "def get_similar_exhibitors_from_visitors_attended(visitor_index:int):\n",
    "    recs = list()\n",
    "    for exhibitor, rating in visitor_attended[visitor_index]:\n",
    "        recommendations = list(enumerate(cosine_sim_exhibitors[int(exhibitor)]))\n",
    "        recommendations = sorted(recommendations, key=lambda x: x[1], reverse=True)\n",
    "        recommendations = recommendations[:2]\n",
    "        for recommendation in recommendations:\n",
    "            recs.append((\n",
    "                company_names[recommendation[0]],\n",
    "                company_repNames[recommendation[0]],\n",
    "                company_repMobileNumbers[recommendation[0]],\n",
    "                recommendation[0],\n",
    "                rating))\n",
    "\n",
    "    # sort according to rating\n",
    "    recs.sort(key=lambda x: x[4], reverse=True)\n",
    "    # remove rating from recs\n",
    "    recs = [rec[:-1] for rec in recs]\n",
    "\n",
    "    return recs"
   ]
  },
  {
   "cell_type": "code",
   "execution_count": 61,
   "metadata": {},
   "outputs": [
    {
     "data": {
      "text/plain": [
       "[('BiofuelCircle Pvt. Ltd.', 'Binish Surendran', '+919850313900', 11),\n",
       " ('GulJag Industries Ltd', 'Govind Sharda', '+919772696000', 277),\n",
       " ('MUKUND BOILERS', 'Swapnil Mukund Vichare', '+919833597755', 90),\n",
       " ('PEARLS METALS', 'PRAFUL R. CHANDAN', '+919820066232', 313)]"
      ]
     },
     "execution_count": 61,
     "metadata": {},
     "output_type": "execute_result"
    }
   ],
   "source": [
    "get_similar_exhibitors_from_visitors_attended(56)"
   ]
  },
  {
   "cell_type": "code",
   "execution_count": 62,
   "metadata": {},
   "outputs": [
    {
     "data": {
      "text/plain": [
       "[('Toshniwal Industries Pvt Ltd', 'Shubham Rawat', '+919352009002', 138),\n",
       " ('Steamgen & Control Systems', 'Abhishek Sharma', '+919990972727', 26),\n",
       " ('Perfect Engineering Services', 'Vikesh Kumar Sood', '+919891016735', 53),\n",
       " ('VAUTOMAT & INSTRUMENTS PVT LTD', 'ANAND SHUKLA', '+919312092738', 62),\n",
       " ('BDK Valves ', 'Renuka Thakarda', '+919930127069', 123)]"
      ]
     },
     "execution_count": 62,
     "metadata": {},
     "output_type": "execute_result"
    }
   ],
   "source": [
    "get_exhibitor_recommendation(0)"
   ]
  },
  {
   "cell_type": "markdown",
   "metadata": {},
   "source": [
    "## 3. Saving Final Relevant Outputs"
   ]
  },
  {
   "cell_type": "code",
   "execution_count": 63,
   "metadata": {},
   "outputs": [],
   "source": [
    "# save the tokenized dfs\n",
    "df_exhibitors_ml_easy.to_csv('exhibitors_tokenized.csv', index=False)\n",
    "df_visitors_ml.to_csv('visitors_tokenized.csv', index=False)"
   ]
  },
  {
   "cell_type": "code",
   "execution_count": null,
   "metadata": {},
   "outputs": [],
   "source": []
  }
 ],
 "metadata": {
  "kernelspec": {
   "display_name": "Python 3",
   "language": "python",
   "name": "python3"
  },
  "language_info": {
   "codemirror_mode": {
    "name": "ipython",
    "version": 3
   },
   "file_extension": ".py",
   "mimetype": "text/x-python",
   "name": "python",
   "nbconvert_exporter": "python",
   "pygments_lexer": "ipython3",
   "version": "3.11.6"
  }
 },
 "nbformat": 4,
 "nbformat_minor": 2
}
